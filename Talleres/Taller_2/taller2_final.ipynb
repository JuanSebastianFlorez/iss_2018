{
  "nbformat": 4,
  "nbformat_minor": 0,
  "metadata": {
    "colab": {
      "name": "taller2.ipynb",
      "version": "0.3.2",
      "views": {},
      "default_view": {},
      "provenance": [],
      "collapsed_sections": []
    },
    "kernelspec": {
      "display_name": "Python 3",
      "language": "python",
      "name": "python3"
    }
  },
  "cells": [
    {
      "metadata": {
        "id": "ph67U8ICgnk7",
        "colab_type": "text"
      },
      "cell_type": "markdown",
      "source": [
        "# Taller 2\n",
        "## Introducción a los sistemas inteligentes 2018-1\n",
        "\n",
        "__*Fecha límite de entrega*__: *Lunes 12 de marzo antes del medio día* (ver instrucciones de envío al final)\n",
        "\n",
        "Integrantes del grupo (máximo 3):\n",
        "\n",
        "* Leonel Fernando Ardila Peña ID 25161168 \n",
        "* Juan Sebastián Flórez Jiménez ID 25161231\n",
        "\n",
        "___________\n",
        "\n",
        "## El Masterball\n",
        "\n",
        "El Masterball es un rompecabezas que el cual consiste de una esfera dividida en 8 segmentos (o cascos) y dividida horizontalmente en 4 capas. Cada segmento tiene un color diferente, La siguiente figura ilustra como se ve un Masterball:\n",
        "\n",
        "<img src=\"http://www.cs.brandeis.edu/~storer/JimPuzzles/RUBIK/MasterBall/MasterBallRainbow.jpg\" \n",
        "alt=\"The Masterball\" width=\"240\" height=\"180\" border=\"10\" />\n",
        "\n",
        "\n",
        "Hay dos tipos de movimientos: un medio giro a lo largo de cualquier meridianoy un $\\frac{1}{8}$ de giro de cualquiera de las 4 capas.\n",
        "\n",
        "Su objetivo es modelar el Masterball como un problema de búsqueda y resolverlo usando diferentes algoritmos de búsqueda.\n",
        "\n",
        "_________\n"
      ]
    },
    {
      "metadata": {
        "id": "K3cpo164rfpN",
        "colab_type": "code",
        "colab": {
          "autoexec": {
            "startup": false,
            "wait_interval": 0
          },
          "output_extras": [
            {
              "item_id": 4
            }
          ],
          "base_uri": "https://localhost:8080/",
          "height": 413
        },
        "outputId": "814ed819-bbd1-4560-a9cc-ca5abcf6d8c6",
        "executionInfo": {
          "status": "ok",
          "timestamp": 1521024978010,
          "user_tz": 300,
          "elapsed": 2601,
          "user": {
            "displayName": "Juan Sebastian Florez Jimenez",
            "photoUrl": "//lh3.googleusercontent.com/-f_AXHy7UbNY/AAAAAAAAAAI/AAAAAAAACXU/MZOvyGnYtqI/s50-c-k-no/photo.jpg",
            "userId": "112823652706665705690"
          }
        }
      },
      "cell_type": "code",
      "source": [
        "!wget https://raw.githubusercontent.com/aimacode/aima-python/master/search.py\n",
        "!wget https://raw.githubusercontent.com/aimacode/aima-python/master/utils.py"
      ],
      "execution_count": 42,
      "outputs": [
        {
          "output_type": "stream",
          "text": [
            "--2018-03-14 10:56:16--  https://raw.githubusercontent.com/aimacode/aima-python/master/search.py\n",
            "Resolving raw.githubusercontent.com (raw.githubusercontent.com)... 151.101.0.133, 151.101.64.133, 151.101.128.133, ...\n",
            "Connecting to raw.githubusercontent.com (raw.githubusercontent.com)|151.101.0.133|:443... connected.\n",
            "HTTP request sent, awaiting response... 200 OK\n",
            "Length: 52276 (51K) [text/plain]\n",
            "Saving to: ‘search.py.1’\n",
            "\n",
            "search.py.1         100%[===================>]  51.05K  --.-KB/s    in 0.03s   \n",
            "\n",
            "2018-03-14 10:56:16 (1.95 MB/s) - ‘search.py.1’ saved [52276/52276]\n",
            "\n",
            "--2018-03-14 10:56:17--  https://raw.githubusercontent.com/aimacode/aima-python/master/utils.py\n",
            "Resolving raw.githubusercontent.com (raw.githubusercontent.com)... 151.101.0.133, 151.101.64.133, 151.101.128.133, ...\n",
            "Connecting to raw.githubusercontent.com (raw.githubusercontent.com)|151.101.0.133|:443... connected.\n",
            "HTTP request sent, awaiting response... 200 OK\n",
            "Length: 23193 (23K) [text/plain]\n",
            "Saving to: ‘utils.py.1’\n",
            "\n",
            "utils.py.1          100%[===================>]  22.65K  --.-KB/s    in 0.01s   \n",
            "\n",
            "2018-03-14 10:56:17 (1.56 MB/s) - ‘utils.py.1’ saved [23193/23193]\n",
            "\n"
          ],
          "name": "stdout"
        }
      ]
    },
    {
      "metadata": {
        "id": "BxgNc_Mzgnk8",
        "colab_type": "text"
      },
      "cell_type": "markdown",
      "source": [
        "### 1. Cree una clase para modelar el problema del Masterball"
      ]
    },
    {
      "metadata": {
        "id": "Npd5c6Iegnk9",
        "colab_type": "text"
      },
      "cell_type": "markdown",
      "source": [
        "Un Masterball debe representarse como una lista de listas con valores enteros que representan el color de la ficha en cada posición.\n",
        "\n",
        "Por ejemplo un masterball resuelto debe verse así:\n",
        "\n",
        "```python\n",
        "[ [0, 1, 2, 3, 4, 5, 6, 7],\n",
        "  [0, 1, 2, 3, 4, 5, 6, 7],\n",
        "  [0, 1, 2, 3, 4, 5, 6, 7],\n",
        "  [0, 1, 2, 3, 4, 5, 6, 7]\n",
        "]\n",
        "```"
      ]
    },
    {
      "metadata": {
        "id": "N0joobNSgnk9",
        "colab_type": "text"
      },
      "cell_type": "markdown",
      "source": [
        "#### Definición de acciones\n",
        "\n",
        "Las siguientes variables definen las posibles acciones que se pueden ejecutar:"
      ]
    },
    {
      "metadata": {
        "id": "aw-2FOQGgnk-",
        "colab_type": "code",
        "colab": {
          "autoexec": {
            "startup": false,
            "wait_interval": 0
          }
        }
      },
      "cell_type": "code",
      "source": [
        "'''\n",
        "This variables MUST not be changed.\n",
        "They represent the movements of the masterball.\n",
        "'''\n",
        "R_0 = \"Right 0\"\n",
        "R_1 = \"Right 1\"\n",
        "R_2 = \"Right 2\"\n",
        "R_3 = \"Right 3\"\n",
        "\n",
        "V_0 = \"Vertical 0\"\n",
        "V_1 = \"Vertical 1\"\n",
        "V_2 = \"Vertical 2\"\n",
        "V_3 = \"Vertical 3\"\n",
        "V_4 = \"Vertical 4\"\n",
        "V_5 = \"Vertical 5\"\n",
        "V_6 = \"Vertical 6\"\n",
        "V_7 = \"Vertical 7\"\n",
        "\n",
        "'''The possible actions are stored in a list'''\n",
        "Possible_Actions = [R_0,R_1,R_2,R_3,V_0,V_1,V_2,V_3,V_4,V_5,V_6,V_7]\n"
      ],
      "execution_count": 0,
      "outputs": []
    },
    {
      "metadata": {
        "id": "5vVje8jUgnlB",
        "colab_type": "text"
      },
      "cell_type": "markdown",
      "source": [
        "`R_i` mueve la `i`-ésima fila a la derecha. Por ejemplo, `R_2` aplicado al estado solución produce:\n",
        "\n",
        "```python\n",
        "[ [0, 1, 2, 3, 4, 5, 6, 7],\n",
        "  [0, 1, 2, 3, 4, 5, 6, 7],\n",
        "  [7, 0, 1, 2, 3, 4, 5, 6],\n",
        "  [0, 1, 2, 3, 4, 5, 6, 7]\n",
        "]\n",
        "```\n",
        "\n",
        "`V_i` realiza un movimiento vertical en el sentido de las manecillas del reloj empezando en la `i`-ésima columna.\n",
        "\n",
        "`V_1` aplicado al estado anterior produce:\n",
        "\n",
        "```python\n",
        "[ [0, 4, 3, 2, 1, 5, 6, 7],\n",
        "  [0, 3, 2, 1, 0, 5, 6, 7],\n",
        "  [7, 4, 3, 2, 1, 4, 5, 6],\n",
        "  [0, 4, 3, 2, 1, 5, 6, 7]\n",
        "]\n",
        "```"
      ]
    },
    {
      "metadata": {
        "id": "c3DRlbBhq5cG",
        "colab_type": "text"
      },
      "cell_type": "markdown",
      "source": [
        "Se define una lista que contiene todos los posible goal states para este problema, en este caso son 8."
      ]
    },
    {
      "metadata": {
        "id": "9BsDuOivrD61",
        "colab_type": "code",
        "colab": {
          "autoexec": {
            "startup": false,
            "wait_interval": 0
          },
          "output_extras": [
            {
              "item_id": 1
            }
          ],
          "base_uri": "https://localhost:8080/",
          "height": 161
        },
        "outputId": "37dda1e4-3331-4a43-f70c-c57e38f8e4b5",
        "executionInfo": {
          "status": "ok",
          "timestamp": 1521024983862,
          "user_tz": 300,
          "elapsed": 339,
          "user": {
            "displayName": "Juan Sebastian Florez Jimenez",
            "photoUrl": "//lh3.googleusercontent.com/-f_AXHy7UbNY/AAAAAAAAAAI/AAAAAAAACXU/MZOvyGnYtqI/s50-c-k-no/photo.jpg",
            "userId": "112823652706665705690"
          }
        }
      },
      "cell_type": "code",
      "source": [
        "''' goal_tot will be a list containing all the possible goal states, which \n",
        "    are 8, and correspond to rotations of the goal_temp state '''\n",
        "\n",
        "def rotate(l):\n",
        "  return [l[-1]] + l[:-1]\n",
        "\n",
        "def another_goal(goal_temp):\n",
        "  goal = []\n",
        "  for layer in goal_temp:\n",
        "    goal.append(rotate(layer))\n",
        "  return goal\n",
        "\n",
        "#This is the first case\n",
        "initial_goal = [[0, 1, 2, 3, 4, 5, 6, 7],\n",
        "                [0, 1, 2, 3, 4, 5, 6, 7],\n",
        "                [0, 1, 2, 3, 4, 5, 6, 7],\n",
        "                [0, 1, 2, 3, 4, 5, 6, 7]]\n",
        "\n",
        "temp_goal = initial_goal\n",
        "goal_tot = []\n",
        "\n",
        "while temp_goal not in goal_tot:\n",
        "  goal_tot.append(temp_goal)\n",
        "  temp_goal = another_goal(goal_tot[-1])\n",
        "\n",
        "for elemen in goal_tot:\n",
        "  print(elemen)"
      ],
      "execution_count": 44,
      "outputs": [
        {
          "output_type": "stream",
          "text": [
            "[[0, 1, 2, 3, 4, 5, 6, 7], [0, 1, 2, 3, 4, 5, 6, 7], [0, 1, 2, 3, 4, 5, 6, 7], [0, 1, 2, 3, 4, 5, 6, 7]]\n",
            "[[7, 0, 1, 2, 3, 4, 5, 6], [7, 0, 1, 2, 3, 4, 5, 6], [7, 0, 1, 2, 3, 4, 5, 6], [7, 0, 1, 2, 3, 4, 5, 6]]\n",
            "[[6, 7, 0, 1, 2, 3, 4, 5], [6, 7, 0, 1, 2, 3, 4, 5], [6, 7, 0, 1, 2, 3, 4, 5], [6, 7, 0, 1, 2, 3, 4, 5]]\n",
            "[[5, 6, 7, 0, 1, 2, 3, 4], [5, 6, 7, 0, 1, 2, 3, 4], [5, 6, 7, 0, 1, 2, 3, 4], [5, 6, 7, 0, 1, 2, 3, 4]]\n",
            "[[4, 5, 6, 7, 0, 1, 2, 3], [4, 5, 6, 7, 0, 1, 2, 3], [4, 5, 6, 7, 0, 1, 2, 3], [4, 5, 6, 7, 0, 1, 2, 3]]\n",
            "[[3, 4, 5, 6, 7, 0, 1, 2], [3, 4, 5, 6, 7, 0, 1, 2], [3, 4, 5, 6, 7, 0, 1, 2], [3, 4, 5, 6, 7, 0, 1, 2]]\n",
            "[[2, 3, 4, 5, 6, 7, 0, 1], [2, 3, 4, 5, 6, 7, 0, 1], [2, 3, 4, 5, 6, 7, 0, 1], [2, 3, 4, 5, 6, 7, 0, 1]]\n",
            "[[1, 2, 3, 4, 5, 6, 7, 0], [1, 2, 3, 4, 5, 6, 7, 0], [1, 2, 3, 4, 5, 6, 7, 0], [1, 2, 3, 4, 5, 6, 7, 0]]\n"
          ],
          "name": "stdout"
        }
      ]
    },
    {
      "metadata": {
        "id": "Uw2X_nq3gnlC",
        "colab_type": "text"
      },
      "cell_type": "markdown",
      "source": [
        "#### Masterball problem class"
      ]
    },
    {
      "metadata": {
        "id": "H1e3jgXLgnlD",
        "colab_type": "code",
        "colab": {
          "autoexec": {
            "startup": false,
            "wait_interval": 0
          }
        }
      },
      "cell_type": "code",
      "source": [
        "\n",
        "import utils\n",
        "import search\n",
        "'''\n",
        "TUVE PROBLEMAS CON LOS COMENTARIOS ASI QUE ME TOCÓ QUITARLOS, DEJO EL LINK DEL\n",
        "GITHUB PARA VERLOS:\n",
        "\n",
        "https://github.com/fagonzalezo/iis-2018-1/blob/master/taller2.ipynb\n",
        "\n",
        "'''\n",
        "\n",
        "import search\n",
        "import utils\n",
        "\n",
        "\n",
        "class masterball_problem(search.Problem):\n",
        "    def __init__(self, startState, goalStates):\n",
        "        self.expanded = 0\n",
        "        self.initial = startState\n",
        "        self.startState = startState\n",
        "        self.goal = goalStates\n",
        "        \n",
        "    def reset_expanded(self):\n",
        "        self.expanded = 0\n",
        "        \n",
        "    def goal_test(self, state):\n",
        "        return state in self.goal\n",
        "    \n",
        "    def getStartState(self):\n",
        "        return self.startState\n",
        "\n",
        "    def actions(self, state):\n",
        "        cost = 1\n",
        "        return([(state, action, cost) for action in Possible_Actions])\n",
        "\n",
        "    def result(self, state, action):\n",
        "        self.expanded += 1\n",
        "        if \"Right\" in action:\n",
        "            row = int(action[-1])\n",
        "            state_copy = [x[:] for x in state]\n",
        "            state_copy[row] = rotate(state_copy[row])\n",
        "            return state_copy\n",
        "        \n",
        "        elif \"Vertical\" in action:\n",
        "            column = int(action[-1])\n",
        "            state_copy = [x[:] for x in state]\n",
        "            columns = [x%8 for x in range(column, column+4)]\n",
        "            inv_columns = columns[::-1]\n",
        "            rows = [0, 1, 2, 3]\n",
        "            inv_rows = rows[::-1]\n",
        "            for a,b in zip(rows, inv_rows):\n",
        "                for c,d in zip(columns, inv_columns):\n",
        "                    state_copy[b][c] = state[a][d]\n",
        "            return state_copy\n",
        "          \n",
        "        else:\n",
        "            return None\n",
        "                          \n",
        "    def path_cost(self, c, state1, action, state2):\n",
        "        return c+1\n"
      ],
      "execution_count": 0,
      "outputs": []
    },
    {
      "metadata": {
        "id": "IMpP4hlggnlH",
        "colab_type": "text"
      },
      "cell_type": "markdown",
      "source": [
        "### 2. Evalue su código con diferentes estrategias de búsqueda\n",
        "\n"
      ]
    },
    {
      "metadata": {
        "id": "1nUCU9wKgnlI",
        "colab_type": "code",
        "colab": {
          "autoexec": {
            "startup": false,
            "wait_interval": 0
          }
        }
      },
      "cell_type": "code",
      "source": [
        "#def general_ui_search(problem, frontier):\n",
        "#    visited = {}\n",
        "#    state = problem.getStartState()\n",
        "#    frontier.append((state, [])\n",
        "#    visited[state] = 'gray'\n",
        "#    while frontier:\n",
        "#        u, actions = frontier.pop()\n",
        "#        if problem.goal_test(u):\n",
        "#            return  actions\n",
        "#        for action in Possible_Actions:\n",
        "#            v = problem.result(u, action)\n",
        "#            if not v in visited:\n",
        "#                visited[v] = 'gray'\n",
        "#                frontier.append((v, actions + [action]))\n",
        "#        visited[u] = 'black'\n",
        "#    return []\n",
        "\n",
        "#def bfs(problema):\n",
        "#   return general_ui_search(problema, search.FIFOQueue())\n",
        "\n",
        "def general_ui_search(problem, frontier):\n",
        "    visited = {}\n",
        "    #tree = search_tree()\n",
        "    state = problem.getStartState()\n",
        "    #display(graphDot(problem, visited))\n",
        "    frontier.append((state, []))\n",
        "    state_0 = []\n",
        "    for ii in range(len(state)):\n",
        "      state_0.append(tuple(state[ii]))\n",
        "    state_0 = tuple(state_0)  \n",
        "    visited[state_0] = 'gray'\n",
        "    #Leo, vea que no pude meter una lista como elemento de un diccionario, entonces tuve que convertir el estado de una lista\n",
        "    #a una tupla, y esa si se deja ingresar, según leí eso se debe a que los elementos de un diccionario no deben poder modificarse.\n",
        "    #Si un estado (lista) tiene nombre aa entonces la tupla equivalente a esa lista tiene nombre aa_0, y eso es lo que se agrega\n",
        "    # a el diccionario.\n",
        "    while frontier:\n",
        "        u, actions = frontier.pop()\n",
        "#        print('Pop:', u )\n",
        "        if problem.goal_test(u):\n",
        "            return  actions #, tree \n",
        "        for action in problem.actions(u):\n",
        "            v = problem.result(u, action[1])\n",
        "            v_0 = []\n",
        "            for ii in range(len(v)):\n",
        "              v_0.append(tuple(v[ii]))\n",
        "            v_0 = tuple(v_0)\n",
        "            if not v_0 in visited:\n",
        "                #tree.addEdge(str(u), str(action[1]), str(v))\n",
        "                visited[v_0] = 'gray'\n",
        "                frontier.append((v, actions + [action[1]]))\n",
        "#            display(graphDot(problem, visited))\n",
        "#            display(tree.getDot())\n",
        "        u_0 = []\n",
        "        for ii in range(len(u)):\n",
        "          u_0.append(tuple(u[ii]))\n",
        "        u_0 = tuple(u_0)\n",
        "        visited[u_0] = 'black'\n",
        "    return [] #, tree                    \n",
        "                    \n",
        "#problem = masterball_problem([[0, 1, 4, 5, 6, 2, 3, 7], [0, 1, 3, 4, 5, 6, 3, 7], [1, 2, 4, 5, 6, 2, 7, 0], [0, 1, 4, 5, 6, 2, 3, 7]], goal_tot)\n",
        "problem_0 = masterball_problem([ [0, 1, 2, 3, 4, 5, 6, 7], [0, 1, 2, 3, 4, 5, 6, 7], [0, 1, 2, 3, 4, 5, 6, 7], [0, 1, 2, 3, 4, 5, 6, 7]], goal_tot)\n",
        "#acciones = bfs(problem)\n",
        "\n",
        "#print(actions)\n",
        "    \n",
        "################################################################################\n",
        "#def iterativeDeepeningSearch(problem):\n",
        "#    ### your code here ###\n",
        "#    return []\n",
        "\n",
        "#def nullHeuristic(state):\n",
        "#    return 0\n",
        "\n",
        "#def aStarSearch(problem, heuristic=nullHeuristic):\n",
        "#    ### your code here ###\n",
        "#    return []\n",
        "\n",
        "#problem = masterball_problem([[0, 1, 4, 5, 6, 2, 3, 7], \n",
        "#                              [0, 1, 3, 4, 5, 6, 3, 7], \n",
        "#                              [1, 2, 4, 5, 6, 2, 7, 0], \n",
        "#                              [0, 1, 4, 5, 6, 2, 3, 7]], goal_tot)\n",
        "\n",
        "#actions = bfs(problem)\n",
        "#print(actions)\n",
        "#actions = iterativeDeepeningSearch(problem)\n",
        "#print(actions)\n",
        "#actions = aStartSearch(problem)\n",
        "#print(actions)\n",
        "################################################################################"
      ],
      "execution_count": 0,
      "outputs": []
    },
    {
      "metadata": {
        "id": "qk-5OtDzAt3P",
        "colab_type": "text"
      },
      "cell_type": "markdown",
      "source": [
        "**BFS**"
      ]
    },
    {
      "metadata": {
        "id": "gnu1jqWG4yFv",
        "colab_type": "code",
        "colab": {
          "autoexec": {
            "startup": false,
            "wait_interval": 0
          }
        }
      },
      "cell_type": "code",
      "source": [
        "def bfs(problem):\n",
        "   return general_ui_search(problem, search.FIFOQueue())"
      ],
      "execution_count": 0,
      "outputs": []
    },
    {
      "metadata": {
        "id": "qUXJUdYVfnrP",
        "colab_type": "code",
        "colab": {
          "autoexec": {
            "startup": false,
            "wait_interval": 0
          },
          "output_extras": [
            {
              "item_id": 1
            }
          ],
          "base_uri": "https://localhost:8080/",
          "height": 35
        },
        "outputId": "5834f6b1-c58c-4e87-f087-bceab913d294",
        "executionInfo": {
          "status": "ok",
          "timestamp": 1521024993583,
          "user_tz": 300,
          "elapsed": 326,
          "user": {
            "displayName": "Juan Sebastian Florez Jimenez",
            "photoUrl": "//lh3.googleusercontent.com/-f_AXHy7UbNY/AAAAAAAAAAI/AAAAAAAACXU/MZOvyGnYtqI/s50-c-k-no/photo.jpg",
            "userId": "112823652706665705690"
          }
        }
      },
      "cell_type": "code",
      "source": [
        "acciones = bfs(problem_0)\n",
        "print(acciones)"
      ],
      "execution_count": 48,
      "outputs": [
        {
          "output_type": "stream",
          "text": [
            "[]\n"
          ],
          "name": "stdout"
        }
      ]
    },
    {
      "metadata": {
        "id": "S5LQT4XvWl3V",
        "colab_type": "code",
        "colab": {
          "autoexec": {
            "startup": false,
            "wait_interval": 0
          },
          "output_extras": [
            {
              "item_id": 1
            }
          ],
          "base_uri": "https://localhost:8080/",
          "height": 53
        },
        "outputId": "fe2257f5-035b-4bda-acf2-090d5316366a",
        "executionInfo": {
          "status": "ok",
          "timestamp": 1521024998033,
          "user_tz": 300,
          "elapsed": 3497,
          "user": {
            "displayName": "Juan Sebastian Florez Jimenez",
            "photoUrl": "//lh3.googleusercontent.com/-f_AXHy7UbNY/AAAAAAAAAAI/AAAAAAAACXU/MZOvyGnYtqI/s50-c-k-no/photo.jpg",
            "userId": "112823652706665705690"
          }
        }
      },
      "cell_type": "code",
      "source": [
        "problem_1 = masterball_problem([ [5, 6, 7, 0, 1, 2, 3, 4], [0, 1, 2, 3, 4, 5, 6, 7], [0, 1, 2, 3, 4, 5, 6, 7], [0, 1, 2, 3, 4, 5, 6, 7]], goal_tot)\n",
        "acciones_1 = bfs(problem_1)\n",
        "print(acciones_1)\n",
        "print(problem_1.expanded)\n",
        "problem_1.reset_expanded()"
      ],
      "execution_count": 49,
      "outputs": [
        {
          "output_type": "stream",
          "text": [
            "['Right 0', 'Right 0', 'Right 0', 'Right 0', 'Right 0']\n",
            "156444\n"
          ],
          "name": "stdout"
        }
      ]
    },
    {
      "metadata": {
        "id": "59wgYEXWAxb5",
        "colab_type": "text"
      },
      "cell_type": "markdown",
      "source": [
        "**DFS**"
      ]
    },
    {
      "metadata": {
        "id": "EowdqfIx_T-A",
        "colab_type": "code",
        "colab": {
          "autoexec": {
            "startup": false,
            "wait_interval": 0
          }
        }
      },
      "cell_type": "code",
      "source": [
        "#Definí la función dfs (deep first search) pero no termina de correr, creo que es porque el problema no tiene final y se queda buscando por \n",
        "#siempre en una rama sin lelgar nunca a la solución, sería bueno probar con un estado que deba encontrar siguiendo esa rama y otro que no para\n",
        "#comprovar que lo que dije es correcto.\n",
        "def dfs(problem):\n",
        "  return general_ui_search(problem, search.Stack())"
      ],
      "execution_count": 0,
      "outputs": []
    },
    {
      "metadata": {
        "id": "J1txGL23_dVb",
        "colab_type": "code",
        "colab": {
          "autoexec": {
            "startup": false,
            "wait_interval": 0
          },
          "output_extras": [
            {
              "item_id": 1
            },
            {
              "item_id": 2
            },
            {
              "item_id": 3
            }
          ],
          "base_uri": "https://localhost:8080/",
          "height": 635
        },
        "outputId": "e086b315-332f-49c3-9c94-d4ecbb761a27",
        "executionInfo": {
          "status": "error",
          "timestamp": 1520972122011,
          "user_tz": 300,
          "elapsed": 17712,
          "user": {
            "displayName": "Juan Sebastian Florez Jimenez",
            "photoUrl": "//lh3.googleusercontent.com/-f_AXHy7UbNY/AAAAAAAAAAI/AAAAAAAACXU/MZOvyGnYtqI/s50-c-k-no/photo.jpg",
            "userId": "112823652706665705690"
          }
        }
      },
      "cell_type": "code",
      "source": [
        "problem_2 = masterball_problem([[7, 0, 1, 2, 3, 4, 5, 6],[0, 1, 2, 3, 4, 5, 6, 7],[0, 1, 2, 3, 4, 5, 6, 7],[0, 1, 2, 3, 4, 5, 6, 7]], goal_tot)\n",
        "#acciones_2 = dfs(problem_2)\n",
        "#print(acciones_2)\n",
        "problem_2.reset_expanded()"
      ],
      "execution_count": 41,
      "outputs": [
        {
          "output_type": "error",
          "ename": "KeyboardInterrupt",
          "evalue": "ignored",
          "traceback": [
            "\u001b[0;31m---------------------------------------------------------------------------\u001b[0m",
            "\u001b[0;31mKeyboardInterrupt\u001b[0m                         Traceback (most recent call last)",
            "\u001b[0;32m/usr/local/lib/python3.6/dist-packages/zmq/backend/cython/checkrc.pxd\u001b[0m in \u001b[0;36mzmq.backend.cython.checkrc._check_rc\u001b[0;34m()\u001b[0m\n",
            "\u001b[0;31mKeyboardInterrupt\u001b[0m: "
          ]
        },
        {
          "output_type": "stream",
          "text": [
            "Exception ignored in: 'zmq.backend.cython.message.Frame.__dealloc__'\n",
            "Traceback (most recent call last):\n",
            "  File \"zmq/backend/cython/checkrc.pxd\", line 12, in zmq.backend.cython.checkrc._check_rc\n",
            "KeyboardInterrupt\n"
          ],
          "name": "stderr"
        },
        {
          "output_type": "error",
          "ename": "KeyboardInterrupt",
          "evalue": "ignored",
          "traceback": [
            "\u001b[0;31m---------------------------------------------------------------------------\u001b[0m",
            "\u001b[0;31mKeyboardInterrupt\u001b[0m                         Traceback (most recent call last)",
            "\u001b[0;32m<ipython-input-41-934a76bf3b1d>\u001b[0m in \u001b[0;36m<module>\u001b[0;34m()\u001b[0m\n\u001b[1;32m      1\u001b[0m \u001b[0mproblem_2\u001b[0m \u001b[0;34m=\u001b[0m \u001b[0mmasterball_problem\u001b[0m\u001b[0;34m(\u001b[0m\u001b[0;34m[\u001b[0m \u001b[0;34m[\u001b[0m\u001b[0;36m7\u001b[0m\u001b[0;34m,\u001b[0m \u001b[0;36m0\u001b[0m\u001b[0;34m,\u001b[0m \u001b[0;36m1\u001b[0m\u001b[0;34m,\u001b[0m \u001b[0;36m2\u001b[0m\u001b[0;34m,\u001b[0m \u001b[0;36m3\u001b[0m\u001b[0;34m,\u001b[0m \u001b[0;36m4\u001b[0m\u001b[0;34m,\u001b[0m \u001b[0;36m5\u001b[0m\u001b[0;34m,\u001b[0m \u001b[0;36m6\u001b[0m\u001b[0;34m]\u001b[0m\u001b[0;34m,\u001b[0m \u001b[0;34m[\u001b[0m\u001b[0;36m0\u001b[0m\u001b[0;34m,\u001b[0m \u001b[0;36m1\u001b[0m\u001b[0;34m,\u001b[0m \u001b[0;36m2\u001b[0m\u001b[0;34m,\u001b[0m \u001b[0;36m3\u001b[0m\u001b[0;34m,\u001b[0m \u001b[0;36m4\u001b[0m\u001b[0;34m,\u001b[0m \u001b[0;36m5\u001b[0m\u001b[0;34m,\u001b[0m \u001b[0;36m6\u001b[0m\u001b[0;34m,\u001b[0m \u001b[0;36m7\u001b[0m\u001b[0;34m]\u001b[0m\u001b[0;34m,\u001b[0m \u001b[0;34m[\u001b[0m\u001b[0;36m0\u001b[0m\u001b[0;34m,\u001b[0m \u001b[0;36m1\u001b[0m\u001b[0;34m,\u001b[0m \u001b[0;36m2\u001b[0m\u001b[0;34m,\u001b[0m \u001b[0;36m3\u001b[0m\u001b[0;34m,\u001b[0m \u001b[0;36m4\u001b[0m\u001b[0;34m,\u001b[0m \u001b[0;36m5\u001b[0m\u001b[0;34m,\u001b[0m \u001b[0;36m6\u001b[0m\u001b[0;34m,\u001b[0m \u001b[0;36m7\u001b[0m\u001b[0;34m]\u001b[0m\u001b[0;34m,\u001b[0m \u001b[0;34m[\u001b[0m\u001b[0;36m0\u001b[0m\u001b[0;34m,\u001b[0m \u001b[0;36m1\u001b[0m\u001b[0;34m,\u001b[0m \u001b[0;36m2\u001b[0m\u001b[0;34m,\u001b[0m \u001b[0;36m3\u001b[0m\u001b[0;34m,\u001b[0m \u001b[0;36m4\u001b[0m\u001b[0;34m,\u001b[0m \u001b[0;36m5\u001b[0m\u001b[0;34m,\u001b[0m \u001b[0;36m6\u001b[0m\u001b[0;34m,\u001b[0m \u001b[0;36m7\u001b[0m\u001b[0;34m]\u001b[0m\u001b[0;34m]\u001b[0m\u001b[0;34m,\u001b[0m \u001b[0mgoal_tot\u001b[0m\u001b[0;34m)\u001b[0m\u001b[0;34m\u001b[0m\u001b[0m\n\u001b[0;32m----> 2\u001b[0;31m \u001b[0macciones_2\u001b[0m \u001b[0;34m=\u001b[0m \u001b[0mdfs\u001b[0m\u001b[0;34m(\u001b[0m\u001b[0mproblem_2\u001b[0m\u001b[0;34m)\u001b[0m\u001b[0;34m\u001b[0m\u001b[0m\n\u001b[0m\u001b[1;32m      3\u001b[0m \u001b[0mprint\u001b[0m\u001b[0;34m(\u001b[0m\u001b[0macciones_2\u001b[0m\u001b[0;34m)\u001b[0m\u001b[0;34m\u001b[0m\u001b[0m\n",
            "\u001b[0;32m<ipython-input-37-03a8be5a8a3c>\u001b[0m in \u001b[0;36mdfs\u001b[0;34m(problem)\u001b[0m\n\u001b[1;32m      1\u001b[0m \u001b[0;32mdef\u001b[0m \u001b[0mdfs\u001b[0m\u001b[0;34m(\u001b[0m\u001b[0mproblem\u001b[0m\u001b[0;34m)\u001b[0m\u001b[0;34m:\u001b[0m\u001b[0;34m\u001b[0m\u001b[0m\n\u001b[0;32m----> 2\u001b[0;31m   \u001b[0;32mreturn\u001b[0m \u001b[0mgeneral_ui_search\u001b[0m\u001b[0;34m(\u001b[0m\u001b[0mproblem\u001b[0m\u001b[0;34m,\u001b[0m \u001b[0msearch\u001b[0m\u001b[0;34m.\u001b[0m\u001b[0mStack\u001b[0m\u001b[0;34m(\u001b[0m\u001b[0;34m)\u001b[0m\u001b[0;34m)\u001b[0m\u001b[0;34m\u001b[0m\u001b[0m\n\u001b[0m",
            "\u001b[0;32m<ipython-input-33-8aaa9ccc2b7e>\u001b[0m in \u001b[0;36mgeneral_ui_search\u001b[0;34m(problem, frontier)\u001b[0m\n\u001b[1;32m     25\u001b[0m                 \u001b[0;31m#tree.addEdge(str(u), str(action[1]), str(v))\u001b[0m\u001b[0;34m\u001b[0m\u001b[0;34m\u001b[0m\u001b[0m\n\u001b[1;32m     26\u001b[0m                 \u001b[0mvisited\u001b[0m\u001b[0;34m[\u001b[0m\u001b[0mv_0\u001b[0m\u001b[0;34m]\u001b[0m \u001b[0;34m=\u001b[0m \u001b[0;34m'gray'\u001b[0m\u001b[0;34m\u001b[0m\u001b[0m\n\u001b[0;32m---> 27\u001b[0;31m                 \u001b[0mfrontier\u001b[0m\u001b[0;34m.\u001b[0m\u001b[0mappend\u001b[0m\u001b[0;34m(\u001b[0m\u001b[0;34m(\u001b[0m\u001b[0mv\u001b[0m\u001b[0;34m,\u001b[0m \u001b[0mactions\u001b[0m \u001b[0;34m+\u001b[0m \u001b[0;34m[\u001b[0m\u001b[0maction\u001b[0m\u001b[0;34m[\u001b[0m\u001b[0;36m1\u001b[0m\u001b[0;34m]\u001b[0m\u001b[0;34m]\u001b[0m\u001b[0;34m)\u001b[0m\u001b[0;34m)\u001b[0m\u001b[0;34m\u001b[0m\u001b[0m\n\u001b[0m\u001b[1;32m     28\u001b[0m \u001b[0;31m#            display(graphDot(problem, visited))\u001b[0m\u001b[0;34m\u001b[0m\u001b[0;34m\u001b[0m\u001b[0m\n\u001b[1;32m     29\u001b[0m \u001b[0;31m#            display(tree.getDot())\u001b[0m\u001b[0;34m\u001b[0m\u001b[0;34m\u001b[0m\u001b[0m\n",
            "\u001b[0;31mKeyboardInterrupt\u001b[0m: "
          ]
        }
      ]
    },
    {
      "metadata": {
        "id": "u1lc5kjFA1yn",
        "colab_type": "text"
      },
      "cell_type": "markdown",
      "source": [
        "**iterativeDepeeningSearch**"
      ]
    },
    {
      "metadata": {
        "id": "FbXEfTHqA-Js",
        "colab_type": "code",
        "colab": {
          "autoexec": {
            "startup": false,
            "wait_interval": 0
          }
        }
      },
      "cell_type": "code",
      "source": [
        "#Para iterativeDeepeningSearch implementé la función DLS (Deep Limited Search) la cual debe hacer una busqueda a profundidad con profundidad máxima.\n",
        "def DLS(problem, frontier, depth_limit):\n",
        "    visited = {}\n",
        "    #tree = search_tree()\n",
        "    state = problem.getStartState()\n",
        "    #display(graphDot(problem, visited))\n",
        "    frontier.append((state, [] , 0))\n",
        "    state_0 = []\n",
        "    for ii in range(len(state)):\n",
        "      state_0.append(tuple(state[ii]))\n",
        "    state_0 = tuple(state_0)  \n",
        "    visited[state_0] = 'gray'\n",
        "    while frontier:\n",
        "        #print(frontier)\n",
        "        u, actions, depth = frontier.pop()\n",
        "#        print('Pop:', u )\n",
        "        if problem.goal_test(u):\n",
        "            return  actions, u #, tree \n",
        "        if depth < depth_limit:\n",
        "          for action in problem.actions(u):\n",
        "            v = problem.result(u, action[1])\n",
        "            v_0 = []\n",
        "            for ii in range(len(v)):\n",
        "              v_0.append(tuple(v[ii]))\n",
        "            v_0 = tuple(v_0)\n",
        "            if not v_0 in visited:\n",
        "              #tree.addEdge(str(u), str(action[1]), str(v))\n",
        "              visited[v_0] = 'gray'\n",
        "              frontier.append((v, actions + [action[1]],depth+1))\n",
        "#            display(graphDot(problem, visited))\n",
        "#            display(tree.getDot())\n",
        "          u_0 = []\n",
        "          for ii in range(len(u)):\n",
        "            u_0.append(tuple(u[ii]))\n",
        "          u_0 = tuple(u_0)\n",
        "          visited[u_0] = 'black'\n",
        "          #print('')\n",
        "          #print(depth+1)\n",
        "          #print('')\n",
        "        #else:\n",
        "          #depth = 0\n",
        "          #frontier = search.Stack()\n",
        "          #frontier # Creo que el error se debe a que estoy reiniciando el contador de profundidad\n",
        "          #pero la busqueda solo de devuelve un nivel y a partir de ahí vuelve a buscar depth_limit veces, lo cual\n",
        "          #solo hace que busque en ramas cada vez más profundas. Esto tiene que cambiarse, que al reiniciar el contador \n",
        "          #se busque hasta la misma profundidad que en la rama anterior.\n",
        "    return [], [] #, tree \n",
        "\n"
      ],
      "execution_count": 0,
      "outputs": []
    },
    {
      "metadata": {
        "id": "zXlMRElwHNLI",
        "colab_type": "code",
        "colab": {
          "autoexec": {
            "startup": false,
            "wait_interval": 0
          }
        }
      },
      "cell_type": "code",
      "source": [
        "def iterativeDeepeningSearch(problem,depth_step):\n",
        "    ### your code here ###\n",
        "    acciones = []\n",
        "    total_depth = depth_step\n",
        "    while not acciones:\n",
        "      print('entra ',total_depth)\n",
        "      acciones, state_fi = DLS(problem,search.Stack(),total_depth)\n",
        "      print('sale ',total_depth)\n",
        "      total_depth = total_depth + depth_step\n",
        "    return acciones, state_fi"
      ],
      "execution_count": 0,
      "outputs": []
    },
    {
      "metadata": {
        "id": "e82DRwpyIBZk",
        "colab_type": "code",
        "colab": {
          "autoexec": {
            "startup": false,
            "wait_interval": 0
          },
          "output_extras": [
            {
              "item_id": 1
            }
          ],
          "base_uri": "https://localhost:8080/",
          "height": 143
        },
        "outputId": "e406cf0f-a845-4989-dd94-32a802897b7f",
        "executionInfo": {
          "status": "ok",
          "timestamp": 1521025013051,
          "user_tz": 300,
          "elapsed": 361,
          "user": {
            "displayName": "Juan Sebastian Florez Jimenez",
            "photoUrl": "//lh3.googleusercontent.com/-f_AXHy7UbNY/AAAAAAAAAAI/AAAAAAAACXU/MZOvyGnYtqI/s50-c-k-no/photo.jpg",
            "userId": "112823652706665705690"
          }
        }
      },
      "cell_type": "code",
      "source": [
        "problem_3 = masterball_problem([[7, 0, 1, 2, 3, 4, 5, 6],[0, 1, 2, 3, 4, 5, 6, 7],[0, 1, 2, 3, 4, 5, 6, 7],[0, 1, 2, 3, 4, 5, 6, 7]], goal_tot)\n",
        "#Por ahora no termina de correr la busqueda\n",
        "acciones_3, final_state = iterativeDeepeningSearch(problem_3,2)\n",
        "print(acciones_3)\n",
        "print(problem_3.expanded)\n",
        "print(final_state)\n",
        "problem_3.reset_expanded()"
      ],
      "execution_count": 52,
      "outputs": [
        {
          "output_type": "stream",
          "text": [
            "entra  2\n",
            "sale  2\n",
            "entra  4\n",
            "sale  4\n",
            "['Right 3', 'Right 2', 'Right 1']\n",
            "8964\n",
            "[[7, 0, 1, 2, 3, 4, 5, 6], [7, 0, 1, 2, 3, 4, 5, 6], [7, 0, 1, 2, 3, 4, 5, 6], [7, 0, 1, 2, 3, 4, 5, 6]]\n"
          ],
          "name": "stdout"
        }
      ]
    },
    {
      "metadata": {
        "id": "pHoWeCyOIkEP",
        "colab_type": "text"
      },
      "cell_type": "markdown",
      "source": [
        "** A* **"
      ]
    },
    {
      "metadata": {
        "id": "Fwk2Sq1gIpsX",
        "colab_type": "code",
        "colab": {
          "autoexec": {
            "startup": false,
            "wait_interval": 0
          }
        }
      },
      "cell_type": "code",
      "source": [
        "#Se hace una copia de general_search con el cambio que los elementos que se le meten al diccionario con tuplas y no listas, porque las últimas no pueden \n",
        "#elementos de un diccionario.\n",
        "def general_search(problem, frontier):\n",
        "    visited = {}\n",
        "    state = problem.getStartState()\n",
        "    frontier.append((state, [], 0))\n",
        "    #tree = search_tree()\n",
        "    #tree.addNode(str(state)+\"[]\",str(state))\n",
        "    while frontier: # Repita mientras hay elementos en la frontera\n",
        "        u, actions, path_cost = frontier.pop()\n",
        "        if problem.goal_test(u):\n",
        "            return  actions, u #, tree\n",
        "        u_0 = []\n",
        "        for ii in range(len(u)):\n",
        "          u_0.append(tuple(u[ii]))\n",
        "        u_0 = tuple(u_0)  \n",
        "        if not u_0 in visited:\n",
        "            for action in problem.actions(u):\n",
        "                v = problem.result(u, action[1])\n",
        "                new_path_cost = problem.path_cost(path_cost, u, action[1], v)\n",
        "                cost = new_path_cost - path_cost\n",
        "                #print(v, cost, action)\n",
        "                #tree.addNode(str(v) + str(actions+[action]), str(v))\n",
        "                #tree.addEdge(str(u) + str(actions), str(cost), str(v) + str(actions+[action]))\n",
        "                frontier.append((v, actions + [action[1]], path_cost + cost))\n",
        "        visited[u_0] = 'black'\n",
        "    return [], [] #, tree\n",
        "\n",
        "def nullHeuristic(state):\n",
        "    return 0\n",
        "\n",
        "  \n",
        "def aStarSearch(problem, heuristic=nullHeuristic):\n",
        "    def f_cost(item):\n",
        "        return item[2] + heuristic(item[0]) \n",
        "    return general_search(problem, utils.PriorityQueue(f = f_cost))  \n",
        "  \n",
        "#def aStarSearch(problem, heuristic=nullHeuristic):\n",
        "    ### your code here ###\n",
        "#    return []\n"
      ],
      "execution_count": 0,
      "outputs": []
    },
    {
      "metadata": {
        "id": "x82m5kCbQvNn",
        "colab_type": "code",
        "colab": {
          "autoexec": {
            "startup": false,
            "wait_interval": 0
          },
          "output_extras": [
            {
              "item_id": 1
            }
          ],
          "base_uri": "https://localhost:8080/",
          "height": 71
        },
        "outputId": "ed044eca-2bf4-4dd6-8195-e42ed7b6c9ce",
        "executionInfo": {
          "status": "ok",
          "timestamp": 1521025024968,
          "user_tz": 300,
          "elapsed": 682,
          "user": {
            "displayName": "Juan Sebastian Florez Jimenez",
            "photoUrl": "//lh3.googleusercontent.com/-f_AXHy7UbNY/AAAAAAAAAAI/AAAAAAAACXU/MZOvyGnYtqI/s50-c-k-no/photo.jpg",
            "userId": "112823652706665705690"
          }
        }
      },
      "cell_type": "code",
      "source": [
        "#Se corre A* con heurística nula y se obtiene una busqueda con costo uniforme\n",
        "#problem_3 = masterball_problem([ [5, 6, 7, 0, 1, 2, 3, 4], [0, 1, 2, 3, 4, 5, 6, 7], [0, 1, 2, 3, 4, 5, 6, 7], [0, 1, 2, 3, 4, 5, 6, 7]], goal_tot)\n",
        "problem_4 = masterball_problem([[0, 4, 3, 2, 1, 5, 6, 7], [0, 3, 2, 1, 0, 5, 6, 7], [7, 4, 3, 2, 1, 4, 5, 6], [0, 4, 3, 2, 1, 5, 6, 7]], goal_tot)\n",
        "acciones_4, final_state_4 =aStarSearch(problem_4)\n",
        "print(acciones_4)\n",
        "print(final_state_4)\n",
        "print(problem_4.expanded)\n",
        "problem_4.reset_expanded()"
      ],
      "execution_count": 54,
      "outputs": [
        {
          "output_type": "stream",
          "text": [
            "['Vertical 5', 'Right 1', 'Vertical 1', 'Vertical 5']\n",
            "[[0, 1, 2, 3, 4, 5, 6, 7], [0, 1, 2, 3, 4, 5, 6, 7], [0, 1, 2, 3, 4, 5, 6, 7], [0, 1, 2, 3, 4, 5, 6, 7]]\n",
            "16536\n"
          ],
          "name": "stdout"
        }
      ]
    },
    {
      "metadata": {
        "id": "cUiANsRtgnlL",
        "colab_type": "text"
      },
      "cell_type": "markdown",
      "source": [
        "Evaluelo para ver cuál es la máxima profundidad que se puede alcanzar en un tiempo razonable con cada estrategia de búsqueda. Reporte los resultados."
      ]
    },
    {
      "metadata": {
        "id": "Uby76E47gnlM",
        "colab_type": "text"
      },
      "cell_type": "markdown",
      "source": [
        "### 3. Implemente diferente heurísticas para el problema"
      ]
    },
    {
      "metadata": {
        "id": "iBalc7h6gnlN",
        "colab_type": "text"
      },
      "cell_type": "markdown",
      "source": [
        "Implemente al menos dos heurísticas admisibles y consistentes. Compare A* usando las heurísticas contra IDS calculando el número de nodos expandidos. "
      ]
    },
    {
      "metadata": {
        "id": "xrkH7QVPgnlN",
        "colab_type": "code",
        "colab": {
          "autoexec": {
            "startup": false,
            "wait_interval": 0
          }
        }
      },
      "cell_type": "code",
      "source": [
        "#La cantidad de fichas fuera de lugar dividido por 16. Es necesario comparar con todos los posibles estados objetivo, porque eso garantiza que\n",
        "#la heurística es admisible.\n",
        "def myHeuristic_1(state):\n",
        "    ### your code here ###\n",
        "    cost = []\n",
        "    for goal_state in goal_tot:\n",
        "      cost_state=0.0\n",
        "      for ii in range(len(goal_state)):\n",
        "        for jj in range(len(goal_state[ii])):\n",
        "          if not goal_state[ii][jj] == state[ii][jj]:\n",
        "            cost_state +=1\n",
        "      cost.append(cost_state/16)\n",
        "           \n",
        "    return min(cost)\n",
        "#A partir del estado objetivo se calcula la distancia Manhatan en 2D teniendo en cuenta que un movimiento entre capas diferentes se divide por 16 \n",
        "# y movimientos en la misma capa se dividen por 8 para que la heurística sea admisible\n",
        "def myHeuristic_2(state):\n",
        "    ### your code here ###\n",
        "    cost = []\n",
        "    for goal_state in goal_tot:\n",
        "      cost_state=0.0\n",
        "      for ii in range(len(goal_state)):\n",
        "        for jj in range(len(goal_state[ii])):\n",
        "          #mirar si hay alguna ficha con el mismo color en la misma fila\n",
        "          layer = False\n",
        "          for kk in range(8):\n",
        "            if (goal_state[ii][jj] == state[ii][(jj+kk)%8]):# or (goal_state[ii][jj] == state[ii][(jj-kk)%8]):\n",
        "              layer=True\n",
        "              if kk==0:\n",
        "                cost_state += 0\n",
        "              elif kk%2==0:\n",
        "                cost_state += 1.0/16 + 1.0/8\n",
        "              else:\n",
        "                cost_state += 1.0/16\n",
        "              break\n",
        "          #si no hay una ficha del mismo color en la misma fila se debe buscar en la complementaria    \n",
        "          if not layer:\n",
        "            #cost_state += 1.0/16\n",
        "            if ii==0:\n",
        "              #se utiliza range(1,9) para que busque primero en la entrada 1 de la fila y de ultimo en la entrada 0= 8%8\n",
        "              for kk in range(1,9):\n",
        "                if (goal_state[ii][jj] == state[3][(jj+kk)%8]):# or (goal_state[ii][jj] == state[3][(jj-kk)%8]):\n",
        "                  if kk%2==0:\n",
        "                    cost_state += 1.0/16 + 1.0/8\n",
        "                  else:\n",
        "                    cost_state += 1.0/16\n",
        "                break\n",
        "            elif ii==3:\n",
        "              for kk in range(1,9):\n",
        "                if (goal_state[ii][jj] == state[0][(jj+kk)%8]):# or (goal_state[ii][jj] == state[0][(jj-kk)%8]):\n",
        "                  if kk%2==0:\n",
        "                    cost_state += 1.0/16 + 1.0/8\n",
        "                  else:\n",
        "                    cost_state += 1.0/16\n",
        "                break\n",
        "            elif ii==1:\n",
        "              for kk in range(1,9):\n",
        "                if (goal_state[ii][jj] == state[2][(jj+kk)%8]):# or (goal_state[ii][jj] == state[2][(jj-kk)%8]):\n",
        "                  if kk%2==0:\n",
        "                    cost_state += 1.0/16 + 1.0/8\n",
        "                  else:\n",
        "                    cost_state += 1.0/16\n",
        "                break\n",
        "            elif ii==2:\n",
        "              for kk in range(1,9):\n",
        "                if (goal_state[ii][jj] == state[1][(jj+kk)%8]):# or (goal_state[ii][jj] == state[1][(jj-kk)%8]):\n",
        "                  if kk%2==0:\n",
        "                    cost_state += 1.0/16 + 1.0/8\n",
        "                  else:\n",
        "                    cost_state += 1.0/16\n",
        "                break\n",
        "              \n",
        "      cost.append(cost_state)    \n",
        "        \n",
        "    return min(cost)"
      ],
      "execution_count": 0,
      "outputs": []
    },
    {
      "metadata": {
        "id": "EKnl3liP213h",
        "colab_type": "code",
        "colab": {
          "autoexec": {
            "startup": false,
            "wait_interval": 0
          },
          "output_extras": [
            {
              "item_id": 2
            }
          ],
          "base_uri": "https://localhost:8080/",
          "height": 179
        },
        "outputId": "edfa84ae-b09c-46a0-db5e-393ae1ce181d",
        "executionInfo": {
          "status": "ok",
          "timestamp": 1521025034573,
          "user_tz": 300,
          "elapsed": 777,
          "user": {
            "displayName": "Juan Sebastian Florez Jimenez",
            "photoUrl": "//lh3.googleusercontent.com/-f_AXHy7UbNY/AAAAAAAAAAI/AAAAAAAACXU/MZOvyGnYtqI/s50-c-k-no/photo.jpg",
            "userId": "112823652706665705690"
          }
        }
      },
      "cell_type": "code",
      "source": [
        "print('myHeuristic_1')\n",
        "problem_5 = masterball_problem([[0, 4, 3, 2, 1, 5, 6, 7], [0, 3, 2, 1, 0, 5, 6, 7], [7, 4, 3, 2, 1, 4, 5, 6], [0, 4, 3, 2, 1, 5, 6, 7]], goal_tot)\n",
        "acciones_5, final_state_5 =aStarSearch(problem_5,myHeuristic_1)\n",
        "print(acciones_5)\n",
        "print(final_state_5)\n",
        "print(problem_5.expanded)\n",
        "problem_5.reset_expanded()\n",
        "\n",
        "print('')\n",
        "print('myHeuristic_2')\n",
        "problem_6 = masterball_problem([[0, 4, 3, 2, 1, 5, 6, 7], [0, 3, 2, 1, 0, 5, 6, 7], [7, 4, 3, 2, 1, 4, 5, 6], [0, 4, 3, 2, 1, 5, 6, 7]], goal_tot)\n",
        "acciones_6, final_state_6 =aStarSearch(problem_6,myHeuristic_2)\n",
        "print(acciones_6)\n",
        "print(final_state_6)\n",
        "print(problem_6.expanded)\n",
        "problem_6.reset_expanded()\n"
      ],
      "execution_count": 56,
      "outputs": [
        {
          "output_type": "stream",
          "text": [
            "myHeuristic_1\n",
            "['Vertical 5', 'Right 1', 'Vertical 5', 'Vertical 1']\n",
            "[[0, 1, 2, 3, 4, 5, 6, 7], [0, 1, 2, 3, 4, 5, 6, 7], [0, 1, 2, 3, 4, 5, 6, 7], [0, 1, 2, 3, 4, 5, 6, 7]]\n",
            "2028\n",
            "\n",
            "myHeuristic_2\n",
            "['Vertical 5', 'Right 1', 'Vertical 5', 'Vertical 1']\n",
            "[[0, 1, 2, 3, 4, 5, 6, 7], [0, 1, 2, 3, 4, 5, 6, 7], [0, 1, 2, 3, 4, 5, 6, 7], [0, 1, 2, 3, 4, 5, 6, 7]]\n",
            "888\n"
          ],
          "name": "stdout"
        }
      ]
    },
    {
      "metadata": {
        "id": "ulHLDmgrgnlP",
        "colab_type": "code",
        "colab": {
          "autoexec": {
            "startup": false,
            "wait_interval": 0
          },
          "output_extras": [
            {
              "item_id": 1
            }
          ],
          "base_uri": "https://localhost:8080/",
          "height": 253
        },
        "outputId": "494787a7-3b65-4cd3-a295-263c1f3f7f6f",
        "executionInfo": {
          "status": "ok",
          "timestamp": 1521025039735,
          "user_tz": 300,
          "elapsed": 560,
          "user": {
            "displayName": "Juan Sebastian Florez Jimenez",
            "photoUrl": "//lh3.googleusercontent.com/-f_AXHy7UbNY/AAAAAAAAAAI/AAAAAAAACXU/MZOvyGnYtqI/s50-c-k-no/photo.jpg",
            "userId": "112823652706665705690"
          }
        }
      },
      "cell_type": "code",
      "source": [
        "problem = masterball_problem([ [0, 4, 3, 2, 1, 5, 6, 7],\n",
        "                              [0, 3, 2, 1, 0, 5, 6, 7],\n",
        "                              [7, 4, 3, 2, 1, 4, 5, 6],\n",
        "                              [0, 4, 3, 2, 1, 5, 6, 7]], goal_tot)\n",
        "#problem_astar = masterball_problem([ [0, 4, 3, 2, 1, 5, 6, 7],\n",
        "#                              [0, 3, 2, 1, 0, 5, 6, 7],\n",
        "#                              [7, 4, 3, 2, 1, 4, 5, 6],\n",
        "#                              [0, 4, 3, 2, 1, 5, 6, 7]], goal_tot)\n",
        "\n",
        "print(iterativeDeepeningSearch(problem,1))\n",
        "print('IDS: ',problem.expanded )\n",
        "problem.reset_expanded()\n",
        "print(aStarSearch(problem, myHeuristic_2))\n",
        "print('Astar: ',problem.expanded )\n",
        "problem.reset_expanded()\n",
        "\n"
      ],
      "execution_count": 57,
      "outputs": [
        {
          "output_type": "stream",
          "text": [
            "entra  1\n",
            "sale  1\n",
            "entra  2\n",
            "sale  2\n",
            "entra  3\n",
            "sale  3\n",
            "entra  4\n",
            "sale  4\n",
            "(['Vertical 5', 'Right 1', 'Vertical 7', 'Vertical 3'], [[4, 5, 6, 7, 0, 1, 2, 3], [4, 5, 6, 7, 0, 1, 2, 3], [4, 5, 6, 7, 0, 1, 2, 3], [4, 5, 6, 7, 0, 1, 2, 3]])\n",
            "IDS:  5376\n",
            "(['Vertical 5', 'Right 1', 'Vertical 5', 'Vertical 1'], [[0, 1, 2, 3, 4, 5, 6, 7], [0, 1, 2, 3, 4, 5, 6, 7], [0, 1, 2, 3, 4, 5, 6, 7], [0, 1, 2, 3, 4, 5, 6, 7]])\n",
            "Astar:  888\n"
          ],
          "name": "stdout"
        }
      ]
    },
    {
      "metadata": {
        "id": "4yrNP5xwfkEw",
        "colab_type": "code",
        "colab": {
          "autoexec": {
            "startup": false,
            "wait_interval": 0
          }
        }
      },
      "cell_type": "code",
      "source": [
        ""
      ],
      "execution_count": 0,
      "outputs": []
    }
  ]
}