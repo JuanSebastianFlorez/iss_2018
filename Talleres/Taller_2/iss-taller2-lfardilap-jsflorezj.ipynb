{
 "cells": [
  {
   "cell_type": "markdown",
   "metadata": {
    "colab_type": "text",
    "id": "ph67U8ICgnk7"
   },
   "source": [
    "# Taller 2\n",
    "## Introducción a los sistemas inteligentes 2018-1\n",
    "\n",
    "__*Fecha límite de entrega*__: *Lunes 12 de marzo antes del medio día* (ver instrucciones de envío al final)\n",
    "\n",
    "Integrantes del grupo (máximo 3):\n",
    "\n",
    "* Leonel Fernando Ardila Peña ID 25161168 \n",
    "* Juan Sebastián Flórez Jiménez ID 25161231\n",
    "\n",
    "___________\n",
    "\n",
    "## El Masterball\n",
    "\n",
    "El Masterball es un rompecabezas que el cual consiste de una esfera dividida en 8 segmentos (o cascos) y dividida horizontalmente en 4 capas. Cada segmento tiene un color diferente, La siguiente figura ilustra como se ve un Masterball:\n",
    "\n",
    "<img src=\"http://www.cs.brandeis.edu/~storer/JimPuzzles/RUBIK/MasterBall/MasterBallRainbow.jpg\" \n",
    "alt=\"The Masterball\" width=\"240\" height=\"180\" border=\"10\" />\n",
    "\n",
    "\n",
    "Hay dos tipos de movimientos: un medio giro a lo largo de cualquier meridianoy un $\\frac{1}{8}$ de giro de cualquiera de las 4 capas.\n",
    "\n",
    "Su objetivo es modelar el Masterball como un problema de búsqueda y resolverlo usando diferentes algoritmos de búsqueda.\n",
    "\n",
    "_________\n"
   ]
  },
  {
   "cell_type": "code",
   "execution_count": 1,
   "metadata": {
    "colab": {
     "autoexec": {
      "startup": false,
      "wait_interval": 0
     },
     "base_uri": "https://localhost:8080/",
     "height": 413,
     "output_extras": [
      {
       "item_id": 4
      }
     ]
    },
    "colab_type": "code",
    "executionInfo": {
     "elapsed": 2642,
     "status": "ok",
     "timestamp": 1521084595028,
     "user": {
      "displayName": "Juan Sebastian Florez Jimenez",
      "photoUrl": "//lh3.googleusercontent.com/-f_AXHy7UbNY/AAAAAAAAAAI/AAAAAAAACXU/MZOvyGnYtqI/s50-c-k-no/photo.jpg",
      "userId": "112823652706665705690"
     },
     "user_tz": 300
    },
    "id": "K3cpo164rfpN",
    "outputId": "1150a835-3f8b-46b1-bf23-1df1dccd0a64"
   },
   "outputs": [
    {
     "name": "stdout",
     "output_type": "stream",
     "text": [
      "--2018-04-02 12:33:04--  https://raw.githubusercontent.com/aimacode/aima-python/master/search.py\n",
      "Resolviendo raw.githubusercontent.com (raw.githubusercontent.com)... 151.101.4.133\n",
      "Conectando con raw.githubusercontent.com (raw.githubusercontent.com)[151.101.4.133]:443... conectado.\n",
      "Petición HTTP enviada, esperando respuesta... 200 OK\n",
      "Longitud: 55391 (54K) [text/plain]\n",
      "Grabando a: “search.py”\n",
      "\n",
      "search.py           100%[===================>]  54,09K  --.-KB/s    in 0,08s   \n",
      "\n",
      "2018-04-02 12:33:05 (696 KB/s) - “search.py” guardado [55391/55391]\n",
      "\n",
      "--2018-04-02 12:33:05--  https://raw.githubusercontent.com/aimacode/aima-python/master/utils.py\n",
      "Resolviendo raw.githubusercontent.com (raw.githubusercontent.com)... 151.101.4.133\n",
      "Conectando con raw.githubusercontent.com (raw.githubusercontent.com)[151.101.4.133]:443... conectado.\n",
      "Petición HTTP enviada, esperando respuesta... 200 OK\n",
      "Longitud: 21381 (21K) [text/plain]\n",
      "Grabando a: “utils.py”\n",
      "\n",
      "utils.py            100%[===================>]  20,88K  --.-KB/s    in 0,05s   \n",
      "\n",
      "2018-04-02 12:33:05 (403 KB/s) - “utils.py” guardado [21381/21381]\n",
      "\n"
     ]
    }
   ],
   "source": [
    "!wget https://raw.githubusercontent.com/aimacode/aima-python/master/search.py\n",
    "!wget https://raw.githubusercontent.com/aimacode/aima-python/master/utils.py"
   ]
  },
  {
   "cell_type": "markdown",
   "metadata": {
    "colab_type": "text",
    "id": "BxgNc_Mzgnk8"
   },
   "source": [
    "### 1. Cree una clase para modelar el problema del Masterball"
   ]
  },
  {
   "cell_type": "markdown",
   "metadata": {
    "colab_type": "text",
    "id": "Npd5c6Iegnk9"
   },
   "source": [
    "Un Masterball debe representarse como una lista de listas con valores enteros que representan el color de la ficha en cada posición.\n",
    "\n",
    "Por ejemplo un masterball resuelto debe verse así:\n",
    "\n",
    "```python\n",
    "[ [0, 1, 2, 3, 4, 5, 6, 7],\n",
    "  [0, 1, 2, 3, 4, 5, 6, 7],\n",
    "  [0, 1, 2, 3, 4, 5, 6, 7],\n",
    "  [0, 1, 2, 3, 4, 5, 6, 7]\n",
    "]\n",
    "```"
   ]
  },
  {
   "cell_type": "markdown",
   "metadata": {
    "colab_type": "text",
    "id": "N0joobNSgnk9"
   },
   "source": [
    "#### Definición de acciones\n",
    "\n",
    "Las siguientes variables definen las posibles acciones que se pueden ejecutar:"
   ]
  },
  {
   "cell_type": "code",
   "execution_count": 2,
   "metadata": {
    "colab": {
     "autoexec": {
      "startup": false,
      "wait_interval": 0
     }
    },
    "colab_type": "code",
    "collapsed": true,
    "id": "aw-2FOQGgnk-"
   },
   "outputs": [],
   "source": [
    "'''\n",
    "This variables MUST not be changed.\n",
    "They represent the movements of the masterball.\n",
    "'''\n",
    "R_0 = \"Right 0\"\n",
    "R_1 = \"Right 1\"\n",
    "R_2 = \"Right 2\"\n",
    "R_3 = \"Right 3\"\n",
    "\n",
    "V_0 = \"Vertical 0\"\n",
    "V_1 = \"Vertical 1\"\n",
    "V_2 = \"Vertical 2\"\n",
    "V_3 = \"Vertical 3\"\n",
    "V_4 = \"Vertical 4\"\n",
    "V_5 = \"Vertical 5\"\n",
    "V_6 = \"Vertical 6\"\n",
    "V_7 = \"Vertical 7\"\n",
    "\n",
    "'''The possible actions are stored in a list'''\n",
    "Possible_Actions = [R_0,R_1,R_2,R_3,V_0,V_1,V_2,V_3,V_4,V_5,V_6,V_7]\n"
   ]
  },
  {
   "cell_type": "markdown",
   "metadata": {
    "colab_type": "text",
    "id": "5vVje8jUgnlB"
   },
   "source": [
    "`R_i` mueve la `i`-ésima fila a la derecha. Por ejemplo, `R_2` aplicado al estado solución produce:\n",
    "\n",
    "```python\n",
    "[ [0, 1, 2, 3, 4, 5, 6, 7],\n",
    "  [0, 1, 2, 3, 4, 5, 6, 7],\n",
    "  [7, 0, 1, 2, 3, 4, 5, 6],\n",
    "  [0, 1, 2, 3, 4, 5, 6, 7]\n",
    "]\n",
    "```\n",
    "\n",
    "`V_i` realiza un movimiento vertical en el sentido de las manecillas del reloj empezando en la `i`-ésima columna.\n",
    "\n",
    "`V_1` aplicado al estado anterior produce:\n",
    "\n",
    "```python\n",
    "[ [0, 4, 3, 2, 1, 5, 6, 7],\n",
    "  [0, 3, 2, 1, 0, 5, 6, 7],\n",
    "  [7, 4, 3, 2, 1, 4, 5, 6],\n",
    "  [0, 4, 3, 2, 1, 5, 6, 7]\n",
    "]\n",
    "```"
   ]
  },
  {
   "cell_type": "markdown",
   "metadata": {
    "colab_type": "text",
    "id": "c3DRlbBhq5cG"
   },
   "source": [
    "Se define una lista que contiene todos los posible goal states para este problema, en este caso son 8."
   ]
  },
  {
   "cell_type": "code",
   "execution_count": 3,
   "metadata": {
    "colab": {
     "autoexec": {
      "startup": false,
      "wait_interval": 0
     },
     "base_uri": "https://localhost:8080/",
     "height": 161,
     "output_extras": [
      {
       "item_id": 1
      }
     ]
    },
    "colab_type": "code",
    "executionInfo": {
     "elapsed": 574,
     "status": "ok",
     "timestamp": 1521084613521,
     "user": {
      "displayName": "Juan Sebastian Florez Jimenez",
      "photoUrl": "//lh3.googleusercontent.com/-f_AXHy7UbNY/AAAAAAAAAAI/AAAAAAAACXU/MZOvyGnYtqI/s50-c-k-no/photo.jpg",
      "userId": "112823652706665705690"
     },
     "user_tz": 300
    },
    "id": "9BsDuOivrD61",
    "outputId": "7dc0e71a-5dbb-4c87-ee86-ffb17097245b"
   },
   "outputs": [
    {
     "name": "stdout",
     "output_type": "stream",
     "text": [
      "[[0, 1, 2, 3, 4, 5, 6, 7], [0, 1, 2, 3, 4, 5, 6, 7], [0, 1, 2, 3, 4, 5, 6, 7], [0, 1, 2, 3, 4, 5, 6, 7]]\n",
      "[[7, 0, 1, 2, 3, 4, 5, 6], [7, 0, 1, 2, 3, 4, 5, 6], [7, 0, 1, 2, 3, 4, 5, 6], [7, 0, 1, 2, 3, 4, 5, 6]]\n",
      "[[6, 7, 0, 1, 2, 3, 4, 5], [6, 7, 0, 1, 2, 3, 4, 5], [6, 7, 0, 1, 2, 3, 4, 5], [6, 7, 0, 1, 2, 3, 4, 5]]\n",
      "[[5, 6, 7, 0, 1, 2, 3, 4], [5, 6, 7, 0, 1, 2, 3, 4], [5, 6, 7, 0, 1, 2, 3, 4], [5, 6, 7, 0, 1, 2, 3, 4]]\n",
      "[[4, 5, 6, 7, 0, 1, 2, 3], [4, 5, 6, 7, 0, 1, 2, 3], [4, 5, 6, 7, 0, 1, 2, 3], [4, 5, 6, 7, 0, 1, 2, 3]]\n",
      "[[3, 4, 5, 6, 7, 0, 1, 2], [3, 4, 5, 6, 7, 0, 1, 2], [3, 4, 5, 6, 7, 0, 1, 2], [3, 4, 5, 6, 7, 0, 1, 2]]\n",
      "[[2, 3, 4, 5, 6, 7, 0, 1], [2, 3, 4, 5, 6, 7, 0, 1], [2, 3, 4, 5, 6, 7, 0, 1], [2, 3, 4, 5, 6, 7, 0, 1]]\n",
      "[[1, 2, 3, 4, 5, 6, 7, 0], [1, 2, 3, 4, 5, 6, 7, 0], [1, 2, 3, 4, 5, 6, 7, 0], [1, 2, 3, 4, 5, 6, 7, 0]]\n"
     ]
    }
   ],
   "source": [
    "''' goal_tot will be a list containing all the possible goal states, which \n",
    "    are 8, and correspond to rotations of the goal_temp state '''\n",
    "\n",
    "def rotate(l):\n",
    "  return [l[-1]] + l[:-1]\n",
    "\n",
    "def another_goal(goal_temp):\n",
    "  goal = []\n",
    "  for layer in goal_temp:\n",
    "    goal.append(rotate(layer))\n",
    "  return goal\n",
    "\n",
    "#This is the first case\n",
    "initial_goal = [[0, 1, 2, 3, 4, 5, 6, 7],\n",
    "                [0, 1, 2, 3, 4, 5, 6, 7],\n",
    "                [0, 1, 2, 3, 4, 5, 6, 7],\n",
    "                [0, 1, 2, 3, 4, 5, 6, 7]]\n",
    "\n",
    "temp_goal = initial_goal\n",
    "goal_tot = []\n",
    "\n",
    "while temp_goal not in goal_tot:\n",
    "  goal_tot.append(temp_goal)\n",
    "  temp_goal = another_goal(goal_tot[-1])\n",
    "\n",
    "for elemen in goal_tot:\n",
    "  print(elemen)"
   ]
  },
  {
   "cell_type": "markdown",
   "metadata": {
    "colab_type": "text",
    "id": "Uw2X_nq3gnlC"
   },
   "source": [
    "#### Masterball problem class"
   ]
  },
  {
   "cell_type": "code",
   "execution_count": 4,
   "metadata": {
    "colab": {
     "autoexec": {
      "startup": false,
      "wait_interval": 0
     }
    },
    "colab_type": "code",
    "collapsed": true,
    "id": "H1e3jgXLgnlD"
   },
   "outputs": [],
   "source": [
    "\n",
    "import utils\n",
    "import search\n",
    "'''\n",
    "TUVE PROBLEMAS CON LOS COMENTARIOS ASI QUE ME TOCÓ QUITARLOS, DEJO EL LINK DEL\n",
    "GITHUB PARA VERLOS:\n",
    "\n",
    "https://github.com/fagonzalezo/iis-2018-1/blob/master/taller2.ipynb\n",
    "\n",
    "'''\n",
    "\n",
    "import search\n",
    "import utils\n",
    "\n",
    "\n",
    "class masterball_problem(search.Problem):\n",
    "    def __init__(self, startState, goalStates):\n",
    "        self.expanded = 0\n",
    "        self.startState = startState\n",
    "        self.goal = goalStates\n",
    "        \n",
    "    def reset_expanded(self):\n",
    "        self.expanded = 0\n",
    "        \n",
    "    def goal_test(self, state):\n",
    "        return state in self.goal\n",
    "    \n",
    "    def getStartState(self):\n",
    "        return self.startState\n",
    "\n",
    "    def actions(self, state):\n",
    "        cost = 1\n",
    "        return([(state, action, cost) for action in Possible_Actions])\n",
    "\n",
    "    def result(self, state, action):\n",
    "        self.expanded += 1\n",
    "        if \"Right\" in action:\n",
    "            row = int(action[-1])\n",
    "            state_copy = [x[:] for x in state]\n",
    "            state_copy[row] = rotate(state_copy[row])\n",
    "            return state_copy\n",
    "        \n",
    "        elif \"Vertical\" in action:\n",
    "            column = int(action[-1])\n",
    "            state_copy = [x[:] for x in state]\n",
    "            columns = [x%8 for x in range(column, column+4)]\n",
    "            inv_columns = columns[::-1]\n",
    "            rows = [0, 1, 2, 3]\n",
    "            inv_rows = rows[::-1]\n",
    "            for a,b in zip(rows, inv_rows):\n",
    "                for c,d in zip(columns, inv_columns):\n",
    "                    state_copy[b][c] = state[a][d]\n",
    "            return state_copy\n",
    "          \n",
    "        else:\n",
    "            return None\n",
    "                          \n",
    "    def path_cost(self, c, state1, action, state2):\n",
    "        return c+1\n"
   ]
  },
  {
   "cell_type": "markdown",
   "metadata": {
    "colab_type": "text",
    "id": "IMpP4hlggnlH"
   },
   "source": [
    "### 2. Evalue su código con diferentes estrategias de búsqueda\n",
    "\n"
   ]
  },
  {
   "cell_type": "markdown",
   "metadata": {
    "colab_type": "text",
    "id": "tGa82Dy1DOio"
   },
   "source": [
    "Creamos una función que permite realizar busquedas sin información."
   ]
  },
  {
   "cell_type": "code",
   "execution_count": 5,
   "metadata": {
    "colab": {
     "autoexec": {
      "startup": false,
      "wait_interval": 0
     }
    },
    "colab_type": "code",
    "collapsed": true,
    "id": "1nUCU9wKgnlI"
   },
   "outputs": [],
   "source": [
    "def general_ui_search(problem, frontier):\n",
    "    visited = {}\n",
    "    state = problem.getStartState()\n",
    "    frontier.append((state, []))\n",
    "    state_0 = []\n",
    "    #A list cannot be an element of a dictionary, hence, we translate the list into a tuple and use that tuple as the \n",
    "    #element that the dictionary saves.\n",
    "    for ii in range(len(state)):\n",
    "      state_0.append(tuple(state[ii]))\n",
    "    state_0 = tuple(state_0)  \n",
    "    visited[state_0] = 'gray'\n",
    "    while frontier:\n",
    "        u, actions = frontier.pop()\n",
    "        if problem.goal_test(u):\n",
    "            return  actions  \n",
    "        for action in problem.actions(u):\n",
    "            v = problem.result(u, action[1])\n",
    "            v_0 = []\n",
    "            for ii in range(len(v)):\n",
    "              v_0.append(tuple(v[ii]))\n",
    "            v_0 = tuple(v_0)\n",
    "            if not v_0 in visited:\n",
    "                visited[v_0] = 'gray'\n",
    "                frontier.append((v, actions + [action[1]]))\n",
    "        u_0 = []\n",
    "        for ii in range(len(u)):\n",
    "          u_0.append(tuple(u[ii]))\n",
    "        u_0 = tuple(u_0)\n",
    "        visited[u_0] = 'black'\n",
    "    return []                     \n",
    "                    \n",
    "problem_0 = masterball_problem([ [0, 1, 2, 3, 4, 5, 6, 7], [0, 1, 2, 3, 4, 5, 6, 7], [0, 1, 2, 3, 4, 5, 6, 7], [0, 1, 2, 3, 4, 5, 6, 7]], goal_tot)\n"
   ]
  },
  {
   "cell_type": "markdown",
   "metadata": {
    "colab_type": "text",
    "id": "qk-5OtDzAt3P"
   },
   "source": [
    "**BFS** \\\\\n",
    "Se crea la función que define la busqueda en amplitud.\n"
   ]
  },
  {
   "cell_type": "code",
   "execution_count": 9,
   "metadata": {
    "colab": {
     "autoexec": {
      "startup": false,
      "wait_interval": 0
     }
    },
    "colab_type": "code",
    "collapsed": true,
    "id": "gnu1jqWG4yFv"
   },
   "outputs": [],
   "source": [
    "def bfs(problem):\n",
    "   return general_ui_search(problem, search.FIFOQueue())"
   ]
  },
  {
   "cell_type": "markdown",
   "metadata": {
    "colab_type": "text",
    "id": "r5Dfh0q7DqrZ"
   },
   "source": [
    "Testeamos la busqueda en amplitud con el problema trivial donde el estado inicial es uno de los posibles estados objetivo."
   ]
  },
  {
   "cell_type": "code",
   "execution_count": 7,
   "metadata": {
    "colab": {
     "autoexec": {
      "startup": false,
      "wait_interval": 0
     },
     "base_uri": "https://localhost:8080/",
     "height": 35,
     "output_extras": [
      {
       "item_id": 1
      }
     ]
    },
    "colab_type": "code",
    "executionInfo": {
     "elapsed": 349,
     "status": "ok",
     "timestamp": 1521084623739,
     "user": {
      "displayName": "Juan Sebastian Florez Jimenez",
      "photoUrl": "//lh3.googleusercontent.com/-f_AXHy7UbNY/AAAAAAAAAAI/AAAAAAAACXU/MZOvyGnYtqI/s50-c-k-no/photo.jpg",
      "userId": "112823652706665705690"
     },
     "user_tz": 300
    },
    "id": "qUXJUdYVfnrP",
    "outputId": "15421144-d1d9-4379-b955-bdad04331958"
   },
   "outputs": [
    {
     "ename": "AttributeError",
     "evalue": "module 'search' has no attribute 'FIFOQueue'",
     "output_type": "error",
     "traceback": [
      "\u001b[0;31m---------------------------------------------------------------------------\u001b[0m",
      "\u001b[0;31mAttributeError\u001b[0m                            Traceback (most recent call last)",
      "\u001b[0;32m<ipython-input-7-9fae56918684>\u001b[0m in \u001b[0;36m<module>\u001b[0;34m()\u001b[0m\n\u001b[0;32m----> 1\u001b[0;31m \u001b[0macciones\u001b[0m \u001b[0;34m=\u001b[0m \u001b[0mbfs\u001b[0m\u001b[0;34m(\u001b[0m\u001b[0mproblem_0\u001b[0m\u001b[0;34m)\u001b[0m\u001b[0;34m\u001b[0m\u001b[0m\n\u001b[0m\u001b[1;32m      2\u001b[0m \u001b[0mprint\u001b[0m\u001b[0;34m(\u001b[0m\u001b[0macciones\u001b[0m\u001b[0;34m)\u001b[0m\u001b[0;34m\u001b[0m\u001b[0m\n",
      "\u001b[0;32m<ipython-input-6-e770d4d9e566>\u001b[0m in \u001b[0;36mbfs\u001b[0;34m(problem)\u001b[0m\n\u001b[1;32m      1\u001b[0m \u001b[0;32mdef\u001b[0m \u001b[0mbfs\u001b[0m\u001b[0;34m(\u001b[0m\u001b[0mproblem\u001b[0m\u001b[0;34m)\u001b[0m\u001b[0;34m:\u001b[0m\u001b[0;34m\u001b[0m\u001b[0m\n\u001b[0;32m----> 2\u001b[0;31m    \u001b[0;32mreturn\u001b[0m \u001b[0mgeneral_ui_search\u001b[0m\u001b[0;34m(\u001b[0m\u001b[0mproblem\u001b[0m\u001b[0;34m,\u001b[0m \u001b[0msearch\u001b[0m\u001b[0;34m.\u001b[0m\u001b[0mFIFOQueue\u001b[0m\u001b[0;34m(\u001b[0m\u001b[0;34m)\u001b[0m\u001b[0;34m)\u001b[0m\u001b[0;34m\u001b[0m\u001b[0m\n\u001b[0m",
      "\u001b[0;31mAttributeError\u001b[0m: module 'search' has no attribute 'FIFOQueue'"
     ]
    }
   ],
   "source": [
    "acciones = bfs(problem_0)\n",
    "print(acciones)"
   ]
  },
  {
   "cell_type": "markdown",
   "metadata": {
    "colab_type": "text",
    "id": "ZmDyaNmZEIoK"
   },
   "source": [
    "Creamos un nuevo problema donde la primera fila ha sido rotada 3 veces hacia la derecha y buscamos la solución con la busqueda por amplitud."
   ]
  },
  {
   "cell_type": "code",
   "execution_count": 8,
   "metadata": {
    "colab": {
     "autoexec": {
      "startup": false,
      "wait_interval": 0
     },
     "base_uri": "https://localhost:8080/",
     "height": 53,
     "output_extras": [
      {
       "item_id": 1
      }
     ]
    },
    "colab_type": "code",
    "executionInfo": {
     "elapsed": 3313,
     "status": "ok",
     "timestamp": 1521084630128,
     "user": {
      "displayName": "Juan Sebastian Florez Jimenez",
      "photoUrl": "//lh3.googleusercontent.com/-f_AXHy7UbNY/AAAAAAAAAAI/AAAAAAAACXU/MZOvyGnYtqI/s50-c-k-no/photo.jpg",
      "userId": "112823652706665705690"
     },
     "user_tz": 300
    },
    "id": "S5LQT4XvWl3V",
    "outputId": "dc35bec1-c740-42ff-f6c3-6e34f9e5f64f"
   },
   "outputs": [
    {
     "ename": "AttributeError",
     "evalue": "module 'search' has no attribute 'FIFOQueue'",
     "output_type": "error",
     "traceback": [
      "\u001b[0;31m---------------------------------------------------------------------------\u001b[0m",
      "\u001b[0;31mAttributeError\u001b[0m                            Traceback (most recent call last)",
      "\u001b[0;32m<ipython-input-8-30880e6aec1a>\u001b[0m in \u001b[0;36m<module>\u001b[0;34m()\u001b[0m\n\u001b[1;32m      1\u001b[0m \u001b[0mproblem_1\u001b[0m \u001b[0;34m=\u001b[0m \u001b[0mmasterball_problem\u001b[0m\u001b[0;34m(\u001b[0m\u001b[0;34m[\u001b[0m \u001b[0;34m[\u001b[0m\u001b[0;36m5\u001b[0m\u001b[0;34m,\u001b[0m \u001b[0;36m6\u001b[0m\u001b[0;34m,\u001b[0m \u001b[0;36m7\u001b[0m\u001b[0;34m,\u001b[0m \u001b[0;36m0\u001b[0m\u001b[0;34m,\u001b[0m \u001b[0;36m1\u001b[0m\u001b[0;34m,\u001b[0m \u001b[0;36m2\u001b[0m\u001b[0;34m,\u001b[0m \u001b[0;36m3\u001b[0m\u001b[0;34m,\u001b[0m \u001b[0;36m4\u001b[0m\u001b[0;34m]\u001b[0m\u001b[0;34m,\u001b[0m \u001b[0;34m[\u001b[0m\u001b[0;36m0\u001b[0m\u001b[0;34m,\u001b[0m \u001b[0;36m1\u001b[0m\u001b[0;34m,\u001b[0m \u001b[0;36m2\u001b[0m\u001b[0;34m,\u001b[0m \u001b[0;36m3\u001b[0m\u001b[0;34m,\u001b[0m \u001b[0;36m4\u001b[0m\u001b[0;34m,\u001b[0m \u001b[0;36m5\u001b[0m\u001b[0;34m,\u001b[0m \u001b[0;36m6\u001b[0m\u001b[0;34m,\u001b[0m \u001b[0;36m7\u001b[0m\u001b[0;34m]\u001b[0m\u001b[0;34m,\u001b[0m \u001b[0;34m[\u001b[0m\u001b[0;36m0\u001b[0m\u001b[0;34m,\u001b[0m \u001b[0;36m1\u001b[0m\u001b[0;34m,\u001b[0m \u001b[0;36m2\u001b[0m\u001b[0;34m,\u001b[0m \u001b[0;36m3\u001b[0m\u001b[0;34m,\u001b[0m \u001b[0;36m4\u001b[0m\u001b[0;34m,\u001b[0m \u001b[0;36m5\u001b[0m\u001b[0;34m,\u001b[0m \u001b[0;36m6\u001b[0m\u001b[0;34m,\u001b[0m \u001b[0;36m7\u001b[0m\u001b[0;34m]\u001b[0m\u001b[0;34m,\u001b[0m \u001b[0;34m[\u001b[0m\u001b[0;36m0\u001b[0m\u001b[0;34m,\u001b[0m \u001b[0;36m1\u001b[0m\u001b[0;34m,\u001b[0m \u001b[0;36m2\u001b[0m\u001b[0;34m,\u001b[0m \u001b[0;36m3\u001b[0m\u001b[0;34m,\u001b[0m \u001b[0;36m4\u001b[0m\u001b[0;34m,\u001b[0m \u001b[0;36m5\u001b[0m\u001b[0;34m,\u001b[0m \u001b[0;36m6\u001b[0m\u001b[0;34m,\u001b[0m \u001b[0;36m7\u001b[0m\u001b[0;34m]\u001b[0m\u001b[0;34m]\u001b[0m\u001b[0;34m,\u001b[0m \u001b[0mgoal_tot\u001b[0m\u001b[0;34m)\u001b[0m\u001b[0;34m\u001b[0m\u001b[0m\n\u001b[0;32m----> 2\u001b[0;31m \u001b[0macciones_1\u001b[0m \u001b[0;34m=\u001b[0m \u001b[0mbfs\u001b[0m\u001b[0;34m(\u001b[0m\u001b[0mproblem_1\u001b[0m\u001b[0;34m)\u001b[0m\u001b[0;34m\u001b[0m\u001b[0m\n\u001b[0m\u001b[1;32m      3\u001b[0m \u001b[0mprint\u001b[0m\u001b[0;34m(\u001b[0m\u001b[0macciones_1\u001b[0m\u001b[0;34m)\u001b[0m\u001b[0;34m\u001b[0m\u001b[0m\n\u001b[1;32m      4\u001b[0m \u001b[0mprint\u001b[0m\u001b[0;34m(\u001b[0m\u001b[0mproblem_1\u001b[0m\u001b[0;34m.\u001b[0m\u001b[0mexpanded\u001b[0m\u001b[0;34m)\u001b[0m\u001b[0;34m\u001b[0m\u001b[0m\n\u001b[1;32m      5\u001b[0m \u001b[0mproblem_1\u001b[0m\u001b[0;34m.\u001b[0m\u001b[0mreset_expanded\u001b[0m\u001b[0;34m(\u001b[0m\u001b[0;34m)\u001b[0m\u001b[0;34m\u001b[0m\u001b[0m\n",
      "\u001b[0;32m<ipython-input-6-e770d4d9e566>\u001b[0m in \u001b[0;36mbfs\u001b[0;34m(problem)\u001b[0m\n\u001b[1;32m      1\u001b[0m \u001b[0;32mdef\u001b[0m \u001b[0mbfs\u001b[0m\u001b[0;34m(\u001b[0m\u001b[0mproblem\u001b[0m\u001b[0;34m)\u001b[0m\u001b[0;34m:\u001b[0m\u001b[0;34m\u001b[0m\u001b[0m\n\u001b[0;32m----> 2\u001b[0;31m    \u001b[0;32mreturn\u001b[0m \u001b[0mgeneral_ui_search\u001b[0m\u001b[0;34m(\u001b[0m\u001b[0mproblem\u001b[0m\u001b[0;34m,\u001b[0m \u001b[0msearch\u001b[0m\u001b[0;34m.\u001b[0m\u001b[0mFIFOQueue\u001b[0m\u001b[0;34m(\u001b[0m\u001b[0;34m)\u001b[0m\u001b[0;34m)\u001b[0m\u001b[0;34m\u001b[0m\u001b[0m\n\u001b[0m",
      "\u001b[0;31mAttributeError\u001b[0m: module 'search' has no attribute 'FIFOQueue'"
     ]
    }
   ],
   "source": [
    "problem_1 = masterball_problem([ [5, 6, 7, 0, 1, 2, 3, 4], [0, 1, 2, 3, 4, 5, 6, 7], [0, 1, 2, 3, 4, 5, 6, 7], [0, 1, 2, 3, 4, 5, 6, 7]], goal_tot)\n",
    "acciones_1 = bfs(problem_1)\n",
    "print(acciones_1)\n",
    "print(problem_1.expanded)\n",
    "problem_1.reset_expanded()"
   ]
  },
  {
   "cell_type": "markdown",
   "metadata": {
    "colab_type": "text",
    "id": "59wgYEXWAxb5"
   },
   "source": [
    "**DFS**"
   ]
  },
  {
   "cell_type": "markdown",
   "metadata": {
    "colab_type": "text",
    "id": "YHYPL8vJFSBD"
   },
   "source": [
    "Se define la función busqueda a profundidad pero no se ejecuta ya que no termina de ejecutarse. En este caso la busqueda a profundidad no permite encontrar una solución porque el árbol del problema no es finito."
   ]
  },
  {
   "cell_type": "code",
   "execution_count": 10,
   "metadata": {
    "colab": {
     "autoexec": {
      "startup": false,
      "wait_interval": 0
     }
    },
    "colab_type": "code",
    "collapsed": true,
    "id": "EowdqfIx_T-A"
   },
   "outputs": [],
   "source": [
    "#Definí la función dfs (deep first search) pero no termina de correr, creo que es porque el problema no tiene final y se queda buscando por \n",
    "#siempre en una rama sin lelgar nunca a la solución, sería bueno probar con un estado que deba encontrar siguiendo esa rama y otro que no para\n",
    "#comprovar que lo que dije es correcto.\n",
    "def dfs(problem):\n",
    "  return general_ui_search(problem, search.Stack())"
   ]
  },
  {
   "cell_type": "code",
   "execution_count": 11,
   "metadata": {
    "colab": {
     "autoexec": {
      "startup": false,
      "wait_interval": 0
     }
    },
    "colab_type": "code",
    "collapsed": true,
    "id": "J1txGL23_dVb"
   },
   "outputs": [],
   "source": [
    "problem_2 = masterball_problem([[7, 0, 1, 2, 3, 4, 5, 6],[0, 1, 2, 3, 4, 5, 6, 7],[0, 1, 2, 3, 4, 5, 6, 7],[0, 1, 2, 3, 4, 5, 6, 7]], goal_tot)\n",
    "#acciones_2 = dfs(problem_2)\n",
    "#print(acciones_2)\n",
    "problem_2.reset_expanded()"
   ]
  },
  {
   "cell_type": "markdown",
   "metadata": {
    "colab_type": "text",
    "id": "u1lc5kjFA1yn"
   },
   "source": [
    "**iterativeDepeeningSearch**"
   ]
  },
  {
   "cell_type": "markdown",
   "metadata": {
    "colab_type": "text",
    "id": "mMlZpMGfF87a"
   },
   "source": [
    "La busqueda a profundidad creciente se implementa iterando sobre la profundidad una busqueda a profundidad limitada."
   ]
  },
  {
   "cell_type": "code",
   "execution_count": 12,
   "metadata": {
    "colab": {
     "autoexec": {
      "startup": false,
      "wait_interval": 0
     }
    },
    "colab_type": "code",
    "collapsed": true,
    "id": "FbXEfTHqA-Js"
   },
   "outputs": [],
   "source": [
    "#The function DLS implements a deep search with limited deep.\n",
    "def DLS(problem, frontier, depth_limit):\n",
    "    visited = {}\n",
    "    state = problem.getStartState()\n",
    "    #The frontier saves three type of data for each state, it saves the state, the list of instructions to get that state\n",
    "    #from the start state, and the depth of that state.\n",
    "    frontier.append((state, [] , 0))\n",
    "    state_0 = []\n",
    "    for ii in range(len(state)):\n",
    "      state_0.append(tuple(state[ii]))\n",
    "    state_0 = tuple(state_0)  \n",
    "    visited[state_0] = 'gray'\n",
    "    while frontier:\n",
    "        u, actions, depth = frontier.pop()\n",
    "        if problem.goal_test(u):\n",
    "            return  actions, u  \n",
    "        #If the depth of the state to be expanded is less than de maximum depth then it is expanded, otherwise the information of \n",
    "        #that state is obviated and the next state in the frontier is expanded.\n",
    "        if depth < depth_limit:\n",
    "          for action in problem.actions(u):\n",
    "            v = problem.result(u, action[1])\n",
    "            v_0 = []\n",
    "            for ii in range(len(v)):\n",
    "              v_0.append(tuple(v[ii]))\n",
    "            v_0 = tuple(v_0)\n",
    "            if not v_0 in visited:\n",
    "              visited[v_0] = 'gray'\n",
    "              #The depth of the neighbour state is one more than the expanded state\n",
    "              frontier.append((v, actions + [action[1]],depth+1))\n",
    "          u_0 = []\n",
    "          for ii in range(len(u)):\n",
    "            u_0.append(tuple(u[ii]))\n",
    "          u_0 = tuple(u_0)\n",
    "          visited[u_0] = 'black'\n",
    "    return [], [] \n"
   ]
  },
  {
   "cell_type": "markdown",
   "metadata": {
    "colab_type": "text",
    "id": "LD-Iq7icH539"
   },
   "source": [
    "La busqueda de rofundidad con profundidad creciente se realiza iterando sobre la busqueda por profundidad limitada al aumentar la profundiad."
   ]
  },
  {
   "cell_type": "code",
   "execution_count": 13,
   "metadata": {
    "colab": {
     "autoexec": {
      "startup": false,
      "wait_interval": 0
     }
    },
    "colab_type": "code",
    "collapsed": true,
    "id": "zXlMRElwHNLI"
   },
   "outputs": [],
   "source": [
    "def iterativeDeepeningSearch(problem,depth_step):\n",
    "    acciones = []\n",
    "    total_depth = depth_step\n",
    "    #If the list acciones is empty the DLS is run over again with a greater depth\n",
    "    while not acciones:\n",
    "      acciones, state_fi = DLS(problem,search.Stack(),total_depth)\n",
    "      #The depth for the next iteration of DLS is incremented\n",
    "      total_depth = total_depth + depth_step\n",
    "    return acciones, state_fi"
   ]
  },
  {
   "cell_type": "markdown",
   "metadata": {
    "colab_type": "text",
    "id": "NpFeWE-OKVCr"
   },
   "source": [
    "Se prueba la busqueda a profundidad creciente se prueba con un estado inicial que se obtine de aplicar R_0 a el primer estado del posible conjunto de estado obejtivo."
   ]
  },
  {
   "cell_type": "code",
   "execution_count": 14,
   "metadata": {
    "colab": {
     "autoexec": {
      "startup": false,
      "wait_interval": 0
     },
     "base_uri": "https://localhost:8080/",
     "height": 71,
     "output_extras": [
      {
       "item_id": 1
      }
     ]
    },
    "colab_type": "code",
    "executionInfo": {
     "elapsed": 340,
     "status": "ok",
     "timestamp": 1521084643528,
     "user": {
      "displayName": "Juan Sebastian Florez Jimenez",
      "photoUrl": "//lh3.googleusercontent.com/-f_AXHy7UbNY/AAAAAAAAAAI/AAAAAAAACXU/MZOvyGnYtqI/s50-c-k-no/photo.jpg",
      "userId": "112823652706665705690"
     },
     "user_tz": 300
    },
    "id": "e82DRwpyIBZk",
    "outputId": "012f40e4-40dc-41a3-883b-00c6e933eeeb"
   },
   "outputs": [
    {
     "ename": "AttributeError",
     "evalue": "module 'search' has no attribute 'Stack'",
     "output_type": "error",
     "traceback": [
      "\u001b[0;31m---------------------------------------------------------------------------\u001b[0m",
      "\u001b[0;31mAttributeError\u001b[0m                            Traceback (most recent call last)",
      "\u001b[0;32m<ipython-input-14-b2254e1e8124>\u001b[0m in \u001b[0;36m<module>\u001b[0;34m()\u001b[0m\n\u001b[1;32m      1\u001b[0m \u001b[0mproblem_3\u001b[0m \u001b[0;34m=\u001b[0m \u001b[0mmasterball_problem\u001b[0m\u001b[0;34m(\u001b[0m\u001b[0;34m[\u001b[0m\u001b[0;34m[\u001b[0m\u001b[0;36m7\u001b[0m\u001b[0;34m,\u001b[0m \u001b[0;36m0\u001b[0m\u001b[0;34m,\u001b[0m \u001b[0;36m1\u001b[0m\u001b[0;34m,\u001b[0m \u001b[0;36m2\u001b[0m\u001b[0;34m,\u001b[0m \u001b[0;36m3\u001b[0m\u001b[0;34m,\u001b[0m \u001b[0;36m4\u001b[0m\u001b[0;34m,\u001b[0m \u001b[0;36m5\u001b[0m\u001b[0;34m,\u001b[0m \u001b[0;36m6\u001b[0m\u001b[0;34m]\u001b[0m\u001b[0;34m,\u001b[0m\u001b[0;34m[\u001b[0m\u001b[0;36m0\u001b[0m\u001b[0;34m,\u001b[0m \u001b[0;36m1\u001b[0m\u001b[0;34m,\u001b[0m \u001b[0;36m2\u001b[0m\u001b[0;34m,\u001b[0m \u001b[0;36m3\u001b[0m\u001b[0;34m,\u001b[0m \u001b[0;36m4\u001b[0m\u001b[0;34m,\u001b[0m \u001b[0;36m5\u001b[0m\u001b[0;34m,\u001b[0m \u001b[0;36m6\u001b[0m\u001b[0;34m,\u001b[0m \u001b[0;36m7\u001b[0m\u001b[0;34m]\u001b[0m\u001b[0;34m,\u001b[0m\u001b[0;34m[\u001b[0m\u001b[0;36m0\u001b[0m\u001b[0;34m,\u001b[0m \u001b[0;36m1\u001b[0m\u001b[0;34m,\u001b[0m \u001b[0;36m2\u001b[0m\u001b[0;34m,\u001b[0m \u001b[0;36m3\u001b[0m\u001b[0;34m,\u001b[0m \u001b[0;36m4\u001b[0m\u001b[0;34m,\u001b[0m \u001b[0;36m5\u001b[0m\u001b[0;34m,\u001b[0m \u001b[0;36m6\u001b[0m\u001b[0;34m,\u001b[0m \u001b[0;36m7\u001b[0m\u001b[0;34m]\u001b[0m\u001b[0;34m,\u001b[0m\u001b[0;34m[\u001b[0m\u001b[0;36m0\u001b[0m\u001b[0;34m,\u001b[0m \u001b[0;36m1\u001b[0m\u001b[0;34m,\u001b[0m \u001b[0;36m2\u001b[0m\u001b[0;34m,\u001b[0m \u001b[0;36m3\u001b[0m\u001b[0;34m,\u001b[0m \u001b[0;36m4\u001b[0m\u001b[0;34m,\u001b[0m \u001b[0;36m5\u001b[0m\u001b[0;34m,\u001b[0m \u001b[0;36m6\u001b[0m\u001b[0;34m,\u001b[0m \u001b[0;36m7\u001b[0m\u001b[0;34m]\u001b[0m\u001b[0;34m]\u001b[0m\u001b[0;34m,\u001b[0m \u001b[0mgoal_tot\u001b[0m\u001b[0;34m)\u001b[0m\u001b[0;34m\u001b[0m\u001b[0m\n\u001b[1;32m      2\u001b[0m \u001b[0;31m#Por ahora no termina de correr la busqueda\u001b[0m\u001b[0;34m\u001b[0m\u001b[0;34m\u001b[0m\u001b[0m\n\u001b[0;32m----> 3\u001b[0;31m \u001b[0macciones_3\u001b[0m\u001b[0;34m,\u001b[0m \u001b[0mfinal_state\u001b[0m \u001b[0;34m=\u001b[0m \u001b[0miterativeDeepeningSearch\u001b[0m\u001b[0;34m(\u001b[0m\u001b[0mproblem_3\u001b[0m\u001b[0;34m,\u001b[0m\u001b[0;36m2\u001b[0m\u001b[0;34m)\u001b[0m\u001b[0;34m\u001b[0m\u001b[0m\n\u001b[0m\u001b[1;32m      4\u001b[0m \u001b[0mprint\u001b[0m\u001b[0;34m(\u001b[0m\u001b[0macciones_3\u001b[0m\u001b[0;34m)\u001b[0m\u001b[0;34m\u001b[0m\u001b[0m\n\u001b[1;32m      5\u001b[0m \u001b[0mprint\u001b[0m\u001b[0;34m(\u001b[0m\u001b[0mproblem_3\u001b[0m\u001b[0;34m.\u001b[0m\u001b[0mexpanded\u001b[0m\u001b[0;34m)\u001b[0m\u001b[0;34m\u001b[0m\u001b[0m\n",
      "\u001b[0;32m<ipython-input-13-d09803722830>\u001b[0m in \u001b[0;36miterativeDeepeningSearch\u001b[0;34m(problem, depth_step)\u001b[0m\n\u001b[1;32m      4\u001b[0m     \u001b[0;31m#If the list acciones is empty the DLS is run over again with a greater depth\u001b[0m\u001b[0;34m\u001b[0m\u001b[0;34m\u001b[0m\u001b[0m\n\u001b[1;32m      5\u001b[0m     \u001b[0;32mwhile\u001b[0m \u001b[0;32mnot\u001b[0m \u001b[0macciones\u001b[0m\u001b[0;34m:\u001b[0m\u001b[0;34m\u001b[0m\u001b[0m\n\u001b[0;32m----> 6\u001b[0;31m       \u001b[0macciones\u001b[0m\u001b[0;34m,\u001b[0m \u001b[0mstate_fi\u001b[0m \u001b[0;34m=\u001b[0m \u001b[0mDLS\u001b[0m\u001b[0;34m(\u001b[0m\u001b[0mproblem\u001b[0m\u001b[0;34m,\u001b[0m\u001b[0msearch\u001b[0m\u001b[0;34m.\u001b[0m\u001b[0mStack\u001b[0m\u001b[0;34m(\u001b[0m\u001b[0;34m)\u001b[0m\u001b[0;34m,\u001b[0m\u001b[0mtotal_depth\u001b[0m\u001b[0;34m)\u001b[0m\u001b[0;34m\u001b[0m\u001b[0m\n\u001b[0m\u001b[1;32m      7\u001b[0m       \u001b[0;31m#The depth for the next iteration of DLS is incremented\u001b[0m\u001b[0;34m\u001b[0m\u001b[0;34m\u001b[0m\u001b[0m\n\u001b[1;32m      8\u001b[0m       \u001b[0mtotal_depth\u001b[0m \u001b[0;34m=\u001b[0m \u001b[0mtotal_depth\u001b[0m \u001b[0;34m+\u001b[0m \u001b[0mdepth_step\u001b[0m\u001b[0;34m\u001b[0m\u001b[0m\n",
      "\u001b[0;31mAttributeError\u001b[0m: module 'search' has no attribute 'Stack'"
     ]
    }
   ],
   "source": [
    "problem_3 = masterball_problem([[7, 0, 1, 2, 3, 4, 5, 6],[0, 1, 2, 3, 4, 5, 6, 7],[0, 1, 2, 3, 4, 5, 6, 7],[0, 1, 2, 3, 4, 5, 6, 7]], goal_tot)\n",
    "#Por ahora no termina de correr la busqueda\n",
    "acciones_3, final_state = iterativeDeepeningSearch(problem_3,2)\n",
    "print(acciones_3)\n",
    "print(problem_3.expanded)\n",
    "print(final_state)\n",
    "problem_3.reset_expanded()"
   ]
  },
  {
   "cell_type": "markdown",
   "metadata": {
    "colab_type": "text",
    "id": "pHoWeCyOIkEP"
   },
   "source": [
    "** A* ** \\\\\n",
    "Se implementa la busqueda Astar usando una función para busquedas generales y una heurística. "
   ]
  },
  {
   "cell_type": "code",
   "execution_count": 15,
   "metadata": {
    "colab": {
     "autoexec": {
      "startup": false,
      "wait_interval": 0
     }
    },
    "colab_type": "code",
    "collapsed": true,
    "id": "Fwk2Sq1gIpsX"
   },
   "outputs": [],
   "source": [
    "def general_search(problem, frontier):\n",
    "    visited = {}\n",
    "    state = problem.getStartState()\n",
    "    frontier.append((state, [], 0))\n",
    "    while frontier: \n",
    "        u, actions, path_cost = frontier.pop()\n",
    "        if problem.goal_test(u):\n",
    "            return  actions, u \n",
    "        u_0 = []\n",
    "        for ii in range(len(u)):\n",
    "          u_0.append(tuple(u[ii]))\n",
    "        u_0 = tuple(u_0)  \n",
    "        if not u_0 in visited:\n",
    "            for action in problem.actions(u):\n",
    "                v = problem.result(u, action[1])\n",
    "                new_path_cost = problem.path_cost(path_cost, u, action[1], v)\n",
    "                cost = new_path_cost - path_cost\n",
    "                frontier.append((v, actions + [action[1]], path_cost + cost))\n",
    "        visited[u_0] = 'black'\n",
    "    return [], []\n",
    "\n",
    "def nullHeuristic(state):\n",
    "    return 0\n",
    "  \n",
    "def aStarSearch(problem, heuristic=nullHeuristic):\n",
    "    def f_cost(item):\n",
    "        return item[2] + heuristic(item[0]) #Item[2] has the information of the cost to arrive at the actual state\n",
    "    return general_search(problem, utils.PriorityQueue(f = f_cost))  \n"
   ]
  },
  {
   "cell_type": "markdown",
   "metadata": {
    "colab_type": "text",
    "id": "x7E8p4bqMY2V"
   },
   "source": [
    "Se prueba el algoritmo de A* usando la heurística nula, lo cual implica que se realiza busqueda de costo uniforme."
   ]
  },
  {
   "cell_type": "code",
   "execution_count": 16,
   "metadata": {
    "colab": {
     "autoexec": {
      "startup": false,
      "wait_interval": 0
     },
     "base_uri": "https://localhost:8080/",
     "height": 71,
     "output_extras": [
      {
       "item_id": 1
      }
     ]
    },
    "colab_type": "code",
    "executionInfo": {
     "elapsed": 958,
     "status": "ok",
     "timestamp": 1521084655646,
     "user": {
      "displayName": "Juan Sebastian Florez Jimenez",
      "photoUrl": "//lh3.googleusercontent.com/-f_AXHy7UbNY/AAAAAAAAAAI/AAAAAAAACXU/MZOvyGnYtqI/s50-c-k-no/photo.jpg",
      "userId": "112823652706665705690"
     },
     "user_tz": 300
    },
    "id": "x82m5kCbQvNn",
    "outputId": "c1f7a4df-d896-44c1-c85b-8cc388b0c8e1"
   },
   "outputs": [
    {
     "name": "stdout",
     "output_type": "stream",
     "text": [
      "['Vertical 5', 'Right 1', 'Vertical 1', 'Vertical 5']\n",
      "[[0, 1, 2, 3, 4, 5, 6, 7], [0, 1, 2, 3, 4, 5, 6, 7], [0, 1, 2, 3, 4, 5, 6, 7], [0, 1, 2, 3, 4, 5, 6, 7]]\n",
      "16536\n"
     ]
    }
   ],
   "source": [
    "#Executing A* with the null heuristic is equivalent to executing a uniform cost search\n",
    "#problem_3 = masterball_problem([ [5, 6, 7, 0, 1, 2, 3, 4], [0, 1, 2, 3, 4, 5, 6, 7], [0, 1, 2, 3, 4, 5, 6, 7], [0, 1, 2, 3, 4, 5, 6, 7]], goal_tot)\n",
    "problem_4 = masterball_problem([[0, 4, 3, 2, 1, 5, 6, 7], [0, 3, 2, 1, 0, 5, 6, 7], [7, 4, 3, 2, 1, 4, 5, 6], [0, 4, 3, 2, 1, 5, 6, 7]], goal_tot)\n",
    "acciones_4, final_state_4 =aStarSearch(problem_4)\n",
    "print(acciones_4)\n",
    "print(final_state_4)\n",
    "print(problem_4.expanded)\n",
    "problem_4.reset_expanded()"
   ]
  },
  {
   "cell_type": "markdown",
   "metadata": {
    "colab_type": "text",
    "id": "cUiANsRtgnlL"
   },
   "source": [
    "Evaluelo para ver cuál es la máxima profundidad que se puede alcanzar en un tiempo razonable con cada estrategia de búsqueda. Reporte los resultados."
   ]
  },
  {
   "cell_type": "markdown",
   "metadata": {
    "colab_type": "text",
    "id": "Uby76E47gnlM"
   },
   "source": [
    "### 3. Implemente diferente heurísticas para el problema"
   ]
  },
  {
   "cell_type": "markdown",
   "metadata": {
    "colab_type": "text",
    "id": "iBalc7h6gnlN"
   },
   "source": [
    "Implemente al menos dos heurísticas admisibles y consistentes. Compare A* usando las heurísticas contra IDS calculando el número de nodos expandidos. "
   ]
  },
  {
   "cell_type": "code",
   "execution_count": 17,
   "metadata": {
    "colab": {
     "autoexec": {
      "startup": false,
      "wait_interval": 0
     }
    },
    "colab_type": "code",
    "collapsed": true,
    "id": "xrkH7QVPgnlN"
   },
   "outputs": [],
   "source": [
    "#La cantidad de fichas fuera de lugar dividido por 16. Es necesario comparar con todos los posibles estados objetivo, porque eso garantiza que\n",
    "#la heurística es admisible.\n",
    "def myHeuristic_1(state):\n",
    "    cost = []\n",
    "    for goal_state in goal_tot:\n",
    "      cost_state=0.0\n",
    "      for ii in range(len(goal_state)):\n",
    "        for jj in range(len(goal_state[ii])):\n",
    "          if not goal_state[ii][jj] == state[ii][jj]:\n",
    "            cost_state +=1\n",
    "      cost.append(cost_state/16)\n",
    "           \n",
    "    return min(cost)\n",
    "#\n",
    "def myHeuristic_2(state):\n",
    "    cost = []\n",
    "    for goal_state in goal_tot:\n",
    "      cost_state=0.0\n",
    "      for ii in range(len(goal_state)):\n",
    "        for jj in range(len(goal_state[ii])):\n",
    "          #Mirar si hay alguna ficha con el mismo color en la misma fila, y se da le da un valor a ese estado dependiendo de su posición relativa\n",
    "          #a la posición en el estado objetivo. Se puede comprobar que si la posición ii tiene color rojo en la columna jj, entonces se puede \n",
    "          #llevar una pieza roja a las posiciones ii+1,ii+3,ii+5,ii+7 haciendo una rotación sobre un eje vertical si se parte del estado objetivo, \n",
    "          #por lo tanto, un límite inferior para ese movimiento en 1/16, pues una rotación respecto del eje vertical mueve 16 fichas. Si la ficha se\n",
    "          #quiere llevar a una de las siguientes posiciones ii+2,ii+4,ii+6 entones mínimo se deben hacer dos movimientos, una rotación respecto de \n",
    "          #un eje vertical y una rotación de alguna capa, por lo tanto un límite inferior para este movimiento es 1/16 +1/8, que son límites \n",
    "          #inferiores para una rotación respecto de un eje vertical y luego una rotación respecto de un eje horizontal.\n",
    "          layer = False\n",
    "          for kk in range(8):\n",
    "            if (goal_state[ii][jj] == state[ii][(jj+kk)%8]):\n",
    "              layer=True\n",
    "              if kk==0:\n",
    "                cost_state += 0\n",
    "              elif kk%2==0:\n",
    "                cost_state += 1.0/16 + 1.0/8\n",
    "              else:\n",
    "                cost_state += 1.0/16\n",
    "              break\n",
    "          #si no hay una ficha del mismo color en la misma fila se debe buscar en la complementaria    \n",
    "          if not layer:\n",
    "            \n",
    "            if ii==0:\n",
    "              #se utiliza range(1,9) para que busque primero en la entrada 1 de la fila y de ultimo en la entrada 0= 8%8\n",
    "              for kk in range(1,9):\n",
    "                if (goal_state[ii][jj] == state[3][(jj+kk)%8]):\n",
    "                  if kk%2==0:\n",
    "                    cost_state += 1.0/16 + 1.0/8\n",
    "                  else:\n",
    "                    cost_state += 1.0/16\n",
    "                break\n",
    "            elif ii==3:\n",
    "              for kk in range(1,9):\n",
    "                if (goal_state[ii][jj] == state[0][(jj+kk)%8]):\n",
    "                  if kk%2==0:\n",
    "                    cost_state += 1.0/16 + 1.0/8\n",
    "                  else:\n",
    "                    cost_state += 1.0/16\n",
    "                break\n",
    "            elif ii==1:\n",
    "              for kk in range(1,9):\n",
    "                if (goal_state[ii][jj] == state[2][(jj+kk)%8]):\n",
    "                  if kk%2==0:\n",
    "                    cost_state += 1.0/16 + 1.0/8\n",
    "                  else:\n",
    "                    cost_state += 1.0/16\n",
    "                break\n",
    "            elif ii==2:\n",
    "              for kk in range(1,9):\n",
    "                if (goal_state[ii][jj] == state[1][(jj+kk)%8]):\n",
    "                  if kk%2==0:\n",
    "                    cost_state += 1.0/16 + 1.0/8\n",
    "                  else:\n",
    "                    cost_state += 1.0/16\n",
    "                break\n",
    "              \n",
    "      cost.append(cost_state)    \n",
    "        \n",
    "    return min(cost)"
   ]
  },
  {
   "cell_type": "markdown",
   "metadata": {
    "colab_type": "text",
    "id": "ZZGE0mG1NFQ0"
   },
   "source": [
    "Se prueban las dos heurísticas implementadas con el mismo problema para comparar la cantidad de nodos expandidos."
   ]
  },
  {
   "cell_type": "code",
   "execution_count": 18,
   "metadata": {
    "colab": {
     "autoexec": {
      "startup": false,
      "wait_interval": 0
     },
     "base_uri": "https://localhost:8080/",
     "height": 179,
     "output_extras": [
      {
       "item_id": 2
      }
     ]
    },
    "colab_type": "code",
    "executionInfo": {
     "elapsed": 665,
     "status": "ok",
     "timestamp": 1521084707581,
     "user": {
      "displayName": "Juan Sebastian Florez Jimenez",
      "photoUrl": "//lh3.googleusercontent.com/-f_AXHy7UbNY/AAAAAAAAAAI/AAAAAAAACXU/MZOvyGnYtqI/s50-c-k-no/photo.jpg",
      "userId": "112823652706665705690"
     },
     "user_tz": 300
    },
    "id": "EKnl3liP213h",
    "outputId": "b51805eb-2188-4513-c5d3-e43fd63ee5de"
   },
   "outputs": [
    {
     "name": "stdout",
     "output_type": "stream",
     "text": [
      "myHeuristic_1\n",
      "['Vertical 5', 'Right 1', 'Vertical 5', 'Vertical 1']\n",
      "[[0, 1, 2, 3, 4, 5, 6, 7], [0, 1, 2, 3, 4, 5, 6, 7], [0, 1, 2, 3, 4, 5, 6, 7], [0, 1, 2, 3, 4, 5, 6, 7]]\n",
      "2028\n",
      "\n",
      "myHeuristic_2\n",
      "['Vertical 5', 'Right 1', 'Vertical 5', 'Vertical 1']\n",
      "[[0, 1, 2, 3, 4, 5, 6, 7], [0, 1, 2, 3, 4, 5, 6, 7], [0, 1, 2, 3, 4, 5, 6, 7], [0, 1, 2, 3, 4, 5, 6, 7]]\n",
      "888\n"
     ]
    }
   ],
   "source": [
    "print('myHeuristic_1')\n",
    "problem_5 = masterball_problem([[0, 4, 3, 2, 1, 5, 6, 7], [0, 3, 2, 1, 0, 5, 6, 7], [7, 4, 3, 2, 1, 4, 5, 6], [0, 4, 3, 2, 1, 5, 6, 7]], goal_tot)\n",
    "acciones_5, final_state_5 =aStarSearch(problem_5,myHeuristic_1)\n",
    "print(acciones_5)\n",
    "print(final_state_5)\n",
    "print(problem_5.expanded)\n",
    "problem_5.reset_expanded()\n",
    "\n",
    "print('')\n",
    "print('myHeuristic_2')\n",
    "problem_6 = masterball_problem([[0, 4, 3, 2, 1, 5, 6, 7], [0, 3, 2, 1, 0, 5, 6, 7], [7, 4, 3, 2, 1, 4, 5, 6], [0, 4, 3, 2, 1, 5, 6, 7]], goal_tot)\n",
    "acciones_6, final_state_6 =aStarSearch(problem_6,myHeuristic_2)\n",
    "print(acciones_6)\n",
    "print(final_state_6)\n",
    "print(problem_6.expanded)\n",
    "problem_6.reset_expanded()\n"
   ]
  },
  {
   "cell_type": "markdown",
   "metadata": {
    "colab_type": "text",
    "id": "ZmtKA45ANmP4"
   },
   "source": [
    "La busqueda a profundiad creciente es comparada con la busqueda A* usando las dos heurísticas implementadas."
   ]
  },
  {
   "cell_type": "code",
   "execution_count": 19,
   "metadata": {
    "colab": {
     "autoexec": {
      "startup": false,
      "wait_interval": 0
     },
     "base_uri": "https://localhost:8080/",
     "height": 145,
     "output_extras": [
      {
       "item_id": 2
      }
     ]
    },
    "colab_type": "code",
    "executionInfo": {
     "elapsed": 917,
     "status": "ok",
     "timestamp": 1521084716215,
     "user": {
      "displayName": "Juan Sebastian Florez Jimenez",
      "photoUrl": "//lh3.googleusercontent.com/-f_AXHy7UbNY/AAAAAAAAAAI/AAAAAAAACXU/MZOvyGnYtqI/s50-c-k-no/photo.jpg",
      "userId": "112823652706665705690"
     },
     "user_tz": 300
    },
    "id": "ulHLDmgrgnlP",
    "outputId": "b2d160c4-ed21-4ff8-95b1-ea8d6da5b43a"
   },
   "outputs": [
    {
     "ename": "AttributeError",
     "evalue": "module 'search' has no attribute 'Stack'",
     "output_type": "error",
     "traceback": [
      "\u001b[0;31m---------------------------------------------------------------------------\u001b[0m",
      "\u001b[0;31mAttributeError\u001b[0m                            Traceback (most recent call last)",
      "\u001b[0;32m<ipython-input-19-0229e13ec1b8>\u001b[0m in \u001b[0;36m<module>\u001b[0;34m()\u001b[0m\n\u001b[1;32m      4\u001b[0m                               [0, 4, 3, 2, 1, 5, 6, 7]], goal_tot)\n\u001b[1;32m      5\u001b[0m \u001b[0;34m\u001b[0m\u001b[0m\n\u001b[0;32m----> 6\u001b[0;31m \u001b[0mprint\u001b[0m\u001b[0;34m(\u001b[0m\u001b[0miterativeDeepeningSearch\u001b[0m\u001b[0;34m(\u001b[0m\u001b[0mproblem\u001b[0m\u001b[0;34m,\u001b[0m\u001b[0;36m1\u001b[0m\u001b[0;34m)\u001b[0m\u001b[0;34m)\u001b[0m\u001b[0;34m\u001b[0m\u001b[0m\n\u001b[0m\u001b[1;32m      7\u001b[0m \u001b[0mprint\u001b[0m\u001b[0;34m(\u001b[0m\u001b[0;34m'IDS: '\u001b[0m\u001b[0;34m,\u001b[0m\u001b[0mproblem\u001b[0m\u001b[0;34m.\u001b[0m\u001b[0mexpanded\u001b[0m \u001b[0;34m)\u001b[0m\u001b[0;34m\u001b[0m\u001b[0m\n\u001b[1;32m      8\u001b[0m \u001b[0mproblem\u001b[0m\u001b[0;34m.\u001b[0m\u001b[0mreset_expanded\u001b[0m\u001b[0;34m(\u001b[0m\u001b[0;34m)\u001b[0m\u001b[0;34m\u001b[0m\u001b[0m\n",
      "\u001b[0;32m<ipython-input-13-d09803722830>\u001b[0m in \u001b[0;36miterativeDeepeningSearch\u001b[0;34m(problem, depth_step)\u001b[0m\n\u001b[1;32m      4\u001b[0m     \u001b[0;31m#If the list acciones is empty the DLS is run over again with a greater depth\u001b[0m\u001b[0;34m\u001b[0m\u001b[0;34m\u001b[0m\u001b[0m\n\u001b[1;32m      5\u001b[0m     \u001b[0;32mwhile\u001b[0m \u001b[0;32mnot\u001b[0m \u001b[0macciones\u001b[0m\u001b[0;34m:\u001b[0m\u001b[0;34m\u001b[0m\u001b[0m\n\u001b[0;32m----> 6\u001b[0;31m       \u001b[0macciones\u001b[0m\u001b[0;34m,\u001b[0m \u001b[0mstate_fi\u001b[0m \u001b[0;34m=\u001b[0m \u001b[0mDLS\u001b[0m\u001b[0;34m(\u001b[0m\u001b[0mproblem\u001b[0m\u001b[0;34m,\u001b[0m\u001b[0msearch\u001b[0m\u001b[0;34m.\u001b[0m\u001b[0mStack\u001b[0m\u001b[0;34m(\u001b[0m\u001b[0;34m)\u001b[0m\u001b[0;34m,\u001b[0m\u001b[0mtotal_depth\u001b[0m\u001b[0;34m)\u001b[0m\u001b[0;34m\u001b[0m\u001b[0m\n\u001b[0m\u001b[1;32m      7\u001b[0m       \u001b[0;31m#The depth for the next iteration of DLS is incremented\u001b[0m\u001b[0;34m\u001b[0m\u001b[0;34m\u001b[0m\u001b[0m\n\u001b[1;32m      8\u001b[0m       \u001b[0mtotal_depth\u001b[0m \u001b[0;34m=\u001b[0m \u001b[0mtotal_depth\u001b[0m \u001b[0;34m+\u001b[0m \u001b[0mdepth_step\u001b[0m\u001b[0;34m\u001b[0m\u001b[0m\n",
      "\u001b[0;31mAttributeError\u001b[0m: module 'search' has no attribute 'Stack'"
     ]
    }
   ],
   "source": [
    "problem = masterball_problem([ [0, 4, 3, 2, 1, 5, 6, 7],\n",
    "                              [0, 3, 2, 1, 0, 5, 6, 7],\n",
    "                              [7, 4, 3, 2, 1, 4, 5, 6],\n",
    "                              [0, 4, 3, 2, 1, 5, 6, 7]], goal_tot)\n",
    "\n",
    "print(iterativeDeepeningSearch(problem,1))\n",
    "print('IDS: ',problem.expanded )\n",
    "problem.reset_expanded()\n",
    "print(aStarSearch(problem, myHeuristic_1))\n",
    "print('Astar: ',problem.expanded )\n",
    "problem.reset_expanded()\n",
    "print(aStarSearch(problem, myHeuristic_2))\n",
    "print('Astar: ',problem.expanded )\n",
    "problem.reset_expanded()\n",
    "\n"
   ]
  },
  {
   "cell_type": "markdown",
   "metadata": {
    "colab_type": "text",
    "id": "K6GhC26VtwKt"
   },
   "source": [
    "La busqueda iterativeDeepeningSearch representa una mejora significativa respecto de la busqueda de costo uniforme, pues expande un tercio de la cantidad de nodos expandidos por la busqueda de costo uniforme. Así mismo, la busqueda con A* y una heurística admisible permite obtener una solución al mismo problema expandiendo menos de la mitad de los nodos que iterativeDeepeningSearch. Si se comparan las dos heurísticas implementadas se observa que la segunda heurística permite obtener una solución expandiendo una menor cantidad de nodos que la cantidad de nodos expandidos por la primera heurística, lo cual es consistente porque la segunda heurística tiene en cuenta más variables del MasterBall. "
   ]
  },
  {
   "cell_type": "code",
   "execution_count": 0,
   "metadata": {
    "colab": {
     "autoexec": {
      "startup": false,
      "wait_interval": 0
     }
    },
    "colab_type": "code",
    "collapsed": true,
    "id": "4yrNP5xwfkEw"
   },
   "outputs": [],
   "source": []
  },
  {
   "cell_type": "code",
   "execution_count": 0,
   "metadata": {
    "colab": {
     "autoexec": {
      "startup": false,
      "wait_interval": 0
     }
    },
    "colab_type": "code",
    "collapsed": true,
    "id": "sOr-_ksruM6z"
   },
   "outputs": [],
   "source": []
  }
 ],
 "metadata": {
  "colab": {
   "collapsed_sections": [],
   "default_view": {},
   "name": "taller2.ipynb",
   "provenance": [],
   "version": "0.3.2",
   "views": {}
  },
  "kernelspec": {
   "display_name": "Python 3",
   "language": "python",
   "name": "python3"
  },
  "language_info": {
   "codemirror_mode": {
    "name": "ipython",
    "version": 3
   },
   "file_extension": ".py",
   "mimetype": "text/x-python",
   "name": "python",
   "nbconvert_exporter": "python",
   "pygments_lexer": "ipython3",
   "version": "3.6.3"
  }
 },
 "nbformat": 4,
 "nbformat_minor": 1
}
